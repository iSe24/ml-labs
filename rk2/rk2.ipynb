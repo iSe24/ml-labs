{
  "nbformat": 4,
  "nbformat_minor": 0,
  "metadata": {
    "colab": {
      "name": "rk2.ipynb",
      "version": "0.3.2",
      "provenance": [],
      "collapsed_sections": []
    },
    "kernelspec": {
      "name": "python3",
      "display_name": "Python 3"
    },
    "accelerator": "TPU"
  },
  "cells": [
    {
      "cell_type": "markdown",
      "metadata": {
        "id": "KjMV0s9WgD31",
        "colab_type": "text"
      },
      "source": [
        "## Рубежный контроль №2\n",
        "Выполнил: Попков Владислав Евгеньевич, группа ИУ5-21м\n",
        "\n",
        "Вариант №1. Классификация текстов на основе методов наивного Байеса"
      ]
    },
    {
      "cell_type": "markdown",
      "metadata": {
        "id": "S8SBUfxwgU68",
        "colab_type": "text"
      },
      "source": [
        "### Датасет\n",
        "На Kaggle.com найден Wine Reviews  - датасет содержащий описания дегустаторов к различным винам. Задачей будет получение параметра points ( оценка по 100 шкале)  на основе написанного отзыва. Для этого необходимо выделить два признака, обработать их и затем отправить на обучение"
      ]
    },
    {
      "cell_type": "code",
      "metadata": {
        "id": "QylndQsliYDh",
        "colab_type": "code",
        "colab": {
          "base_uri": "https://localhost:8080/",
          "height": 68
        },
        "outputId": "d3430f95-50ef-4930-870c-8c85d0edcb8a"
      },
      "source": [
        "import os\n",
        "import numpy as np\n",
        "import pandas as pd\n",
        "import matplotlib.pyplot as plt\n",
        "from typing import Dict, Tuple\n",
        "from sklearn.linear_model import LogisticRegression\n",
        "from sklearn.metrics import accuracy_score, balanced_accuracy_score\n",
        "from sklearn.naive_bayes import MultinomialNB, ComplementNB, BernoulliNB\n",
        "from sklearn.feature_extraction.text import CountVectorizer, TfidfVectorizer\n",
        "from sklearn.model_selection import train_test_split\n",
        "from sklearn.pipeline import Pipeline\n",
        "%matplotlib inline \n",
        "data = pd.read_csv('winemag-data-130k-v2.csv')\n",
        "data = data[['description', 'points']]\n",
        "data=data.dropna(axis=0,how='any')\n",
        "data.head()\n",
        "data.dtypes"
      ],
      "execution_count": 1,
      "outputs": [
        {
          "output_type": "execute_result",
          "data": {
            "text/plain": [
              "description    object\n",
              "points          int64\n",
              "dtype: object"
            ]
          },
          "metadata": {
            "tags": []
          },
          "execution_count": 1
        }
      ]
    },
    {
      "cell_type": "code",
      "metadata": {
        "id": "BCF-R9zUj8ao",
        "colab_type": "code",
        "colab": {}
      },
      "source": [
        "X_train, X_test, y_train, y_test = train_test_split(data['description'], data['points'], test_size=0.4, random_state=1)"
      ],
      "execution_count": 0,
      "outputs": []
    },
    {
      "cell_type": "code",
      "metadata": {
        "id": "MXFPPQ-RkYmH",
        "colab_type": "code",
        "colab": {}
      },
      "source": [
        "def calc(v, c):\n",
        "    model = Pipeline(\n",
        "        [(\"vectorizer\", v), \n",
        "         (\"classifier\", c)])\n",
        "    model.fit(X_train, y_train)\n",
        "    y_pred = model.predict(X_test)\n",
        "    print(v)\n",
        "    print(\"+{}\".format(c))\n",
        "    d = {'t': y_test, 'p': y_pred}\n",
        "    df = pd.DataFrame(data=d)\n",
        "    classes = np.unique(y_test)\n",
        "    res = dict()\n",
        "    for c in classes:\n",
        "        temp_data_flt = df[df['t']==c]\n",
        "        temp_acc = accuracy_score(\n",
        "            temp_data_flt['t'].values, \n",
        "            temp_data_flt['p'].values)\n",
        "        res[c] = temp_acc\n",
        "    if len(res)>0:\n",
        "        print('Points \\t Accuracy')\n",
        "    for i in res:\n",
        "      if ((i < 85) or (i > 94)):\n",
        "        pass\n",
        "      else:\n",
        "        print('{} \\t {:.2%}'.format(i, res[i]))\n",
        "    print('\\n\\n')"
      ],
      "execution_count": 0,
      "outputs": []
    },
    {
      "cell_type": "code",
      "metadata": {
        "id": "hu1qCLzSkaF_",
        "colab_type": "code",
        "colab": {}
      },
      "source": [
        "classificators = [LogisticRegression(C=5.0), MultinomialNB(), ComplementNB(), BernoulliNB()]\n",
        "vectorizers = [TfidfVectorizer(), CountVectorizer()]"
      ],
      "execution_count": 0,
      "outputs": []
    },
    {
      "cell_type": "code",
      "metadata": {
        "id": "MoPIE4nykbo_",
        "colab_type": "code",
        "colab": {
          "base_uri": "https://localhost:8080/",
          "height": 3233
        },
        "outputId": "0575a0d1-d723-4081-a337-3cd9d1f396b1"
      },
      "source": [
        "for classificator in classificators:\n",
        "  for vectorizer in vectorizers:\n",
        "    calc(vectorizer, classificator)"
      ],
      "execution_count": 5,
      "outputs": [
        {
          "output_type": "stream",
          "text": [
            "/usr/local/lib/python3.6/dist-packages/sklearn/linear_model/logistic.py:432: FutureWarning: Default solver will be changed to 'lbfgs' in 0.22. Specify a solver to silence this warning.\n",
            "  FutureWarning)\n",
            "/usr/local/lib/python3.6/dist-packages/sklearn/linear_model/logistic.py:469: FutureWarning: Default multi_class will be changed to 'auto' in 0.22. Specify the multi_class option to silence this warning.\n",
            "  \"this warning.\", FutureWarning)\n"
          ],
          "name": "stderr"
        },
        {
          "output_type": "stream",
          "text": [
            "TfidfVectorizer(analyzer='word', binary=False, decode_error='strict',\n",
            "                dtype=<class 'numpy.float64'>, encoding='utf-8',\n",
            "                input='content', lowercase=True, max_df=1.0, max_features=None,\n",
            "                min_df=1, ngram_range=(1, 1), norm='l2', preprocessor=None,\n",
            "                smooth_idf=True, stop_words=None, strip_accents=None,\n",
            "                sublinear_tf=False, token_pattern='(?u)\\\\b\\\\w\\\\w+\\\\b',\n",
            "                tokenizer=None, use_idf=True, vocabulary=None)\n",
            "+LogisticRegression(C=5.0, class_weight=None, dual=False, fit_intercept=True,\n",
            "                   intercept_scaling=1, l1_ratio=None, max_iter=100,\n",
            "                   multi_class='warn', n_jobs=None, penalty='l2',\n",
            "                   random_state=None, solver='warn', tol=0.0001, verbose=0,\n",
            "                   warm_start=False)\n",
            "Points \t Accuracy\n",
            "85 \t 20.90%\n",
            "86 \t 23.91%\n",
            "87 \t 34.00%\n",
            "88 \t 31.45%\n",
            "89 \t 18.38%\n",
            "90 \t 31.46%\n",
            "91 \t 22.83%\n",
            "92 \t 24.58%\n",
            "93 \t 18.65%\n",
            "94 \t 13.87%\n",
            "\n",
            "\n",
            "\n"
          ],
          "name": "stdout"
        },
        {
          "output_type": "stream",
          "text": [
            "/usr/local/lib/python3.6/dist-packages/sklearn/linear_model/logistic.py:432: FutureWarning: Default solver will be changed to 'lbfgs' in 0.22. Specify a solver to silence this warning.\n",
            "  FutureWarning)\n",
            "/usr/local/lib/python3.6/dist-packages/sklearn/linear_model/logistic.py:469: FutureWarning: Default multi_class will be changed to 'auto' in 0.22. Specify the multi_class option to silence this warning.\n",
            "  \"this warning.\", FutureWarning)\n"
          ],
          "name": "stderr"
        },
        {
          "output_type": "stream",
          "text": [
            "CountVectorizer(analyzer='word', binary=False, decode_error='strict',\n",
            "                dtype=<class 'numpy.int64'>, encoding='utf-8', input='content',\n",
            "                lowercase=True, max_df=1.0, max_features=None, min_df=1,\n",
            "                ngram_range=(1, 1), preprocessor=None, stop_words=None,\n",
            "                strip_accents=None, token_pattern='(?u)\\\\b\\\\w\\\\w+\\\\b',\n",
            "                tokenizer=None, vocabulary=None)\n",
            "+LogisticRegression(C=5.0, class_weight=None, dual=False, fit_intercept=True,\n",
            "                   intercept_scaling=1, l1_ratio=None, max_iter=100,\n",
            "                   multi_class='warn', n_jobs=None, penalty='l2',\n",
            "                   random_state=None, solver='warn', tol=0.0001, verbose=0,\n",
            "                   warm_start=False)\n",
            "Points \t Accuracy\n",
            "85 \t 22.28%\n",
            "86 \t 24.16%\n",
            "87 \t 31.65%\n",
            "88 \t 29.50%\n",
            "89 \t 20.61%\n",
            "90 \t 28.51%\n",
            "91 \t 23.94%\n",
            "92 \t 24.79%\n",
            "93 \t 21.71%\n",
            "94 \t 19.46%\n",
            "\n",
            "\n",
            "\n",
            "TfidfVectorizer(analyzer='word', binary=False, decode_error='strict',\n",
            "                dtype=<class 'numpy.float64'>, encoding='utf-8',\n",
            "                input='content', lowercase=True, max_df=1.0, max_features=None,\n",
            "                min_df=1, ngram_range=(1, 1), norm='l2', preprocessor=None,\n",
            "                smooth_idf=True, stop_words=None, strip_accents=None,\n",
            "                sublinear_tf=False, token_pattern='(?u)\\\\b\\\\w\\\\w+\\\\b',\n",
            "                tokenizer=None, use_idf=True, vocabulary=None)\n",
            "+MultinomialNB(alpha=1.0, class_prior=None, fit_prior=True)\n",
            "Points \t Accuracy\n",
            "85 \t 0.82%\n",
            "86 \t 3.19%\n",
            "87 \t 51.64%\n",
            "88 \t 51.41%\n",
            "89 \t 1.20%\n",
            "90 \t 40.75%\n",
            "91 \t 4.03%\n",
            "92 \t 2.53%\n",
            "93 \t 0.74%\n",
            "94 \t 0.00%\n",
            "\n",
            "\n",
            "\n",
            "CountVectorizer(analyzer='word', binary=False, decode_error='strict',\n",
            "                dtype=<class 'numpy.int64'>, encoding='utf-8', input='content',\n",
            "                lowercase=True, max_df=1.0, max_features=None, min_df=1,\n",
            "                ngram_range=(1, 1), preprocessor=None, stop_words=None,\n",
            "                strip_accents=None, token_pattern='(?u)\\\\b\\\\w\\\\w+\\\\b',\n",
            "                tokenizer=None, vocabulary=None)\n",
            "+MultinomialNB(alpha=1.0, class_prior=None, fit_prior=True)\n",
            "Points \t Accuracy\n",
            "85 \t 18.13%\n",
            "86 \t 19.41%\n",
            "87 \t 35.72%\n",
            "88 \t 29.72%\n",
            "89 \t 18.24%\n",
            "90 \t 31.23%\n",
            "91 \t 23.86%\n",
            "92 \t 25.27%\n",
            "93 \t 15.63%\n",
            "94 \t 5.32%\n",
            "\n",
            "\n",
            "\n",
            "TfidfVectorizer(analyzer='word', binary=False, decode_error='strict',\n",
            "                dtype=<class 'numpy.float64'>, encoding='utf-8',\n",
            "                input='content', lowercase=True, max_df=1.0, max_features=None,\n",
            "                min_df=1, ngram_range=(1, 1), norm='l2', preprocessor=None,\n",
            "                smooth_idf=True, stop_words=None, strip_accents=None,\n",
            "                sublinear_tf=False, token_pattern='(?u)\\\\b\\\\w\\\\w+\\\\b',\n",
            "                tokenizer=None, use_idf=True, vocabulary=None)\n",
            "+ComplementNB(alpha=1.0, class_prior=None, fit_prior=True, norm=False)\n",
            "Points \t Accuracy\n",
            "85 \t 22.82%\n",
            "86 \t 20.72%\n",
            "87 \t 30.92%\n",
            "88 \t 22.72%\n",
            "89 \t 14.67%\n",
            "90 \t 25.72%\n",
            "91 \t 23.94%\n",
            "92 \t 28.61%\n",
            "93 \t 20.70%\n",
            "94 \t 10.24%\n",
            "\n",
            "\n",
            "\n",
            "CountVectorizer(analyzer='word', binary=False, decode_error='strict',\n",
            "                dtype=<class 'numpy.int64'>, encoding='utf-8', input='content',\n",
            "                lowercase=True, max_df=1.0, max_features=None, min_df=1,\n",
            "                ngram_range=(1, 1), preprocessor=None, stop_words=None,\n",
            "                strip_accents=None, token_pattern='(?u)\\\\b\\\\w\\\\w+\\\\b',\n",
            "                tokenizer=None, vocabulary=None)\n",
            "+ComplementNB(alpha=1.0, class_prior=None, fit_prior=True, norm=False)\n",
            "Points \t Accuracy\n",
            "85 \t 24.03%\n",
            "86 \t 21.34%\n",
            "87 \t 29.93%\n",
            "88 \t 18.60%\n",
            "89 \t 16.51%\n",
            "90 \t 21.26%\n",
            "91 \t 24.45%\n",
            "92 \t 31.35%\n",
            "93 \t 26.01%\n",
            "94 \t 13.20%\n",
            "\n",
            "\n",
            "\n",
            "TfidfVectorizer(analyzer='word', binary=False, decode_error='strict',\n",
            "                dtype=<class 'numpy.float64'>, encoding='utf-8',\n",
            "                input='content', lowercase=True, max_df=1.0, max_features=None,\n",
            "                min_df=1, ngram_range=(1, 1), norm='l2', preprocessor=None,\n",
            "                smooth_idf=True, stop_words=None, strip_accents=None,\n",
            "                sublinear_tf=False, token_pattern='(?u)\\\\b\\\\w\\\\w+\\\\b',\n",
            "                tokenizer=None, use_idf=True, vocabulary=None)\n",
            "+BernoulliNB(alpha=1.0, binarize=0.0, class_prior=None, fit_prior=True)\n",
            "Points \t Accuracy\n",
            "85 \t 21.57%\n",
            "86 \t 21.32%\n",
            "87 \t 39.27%\n",
            "88 \t 31.43%\n",
            "89 \t 16.73%\n",
            "90 \t 30.82%\n",
            "91 \t 23.02%\n",
            "92 \t 23.81%\n",
            "93 \t 13.39%\n",
            "94 \t 3.84%\n",
            "\n",
            "\n",
            "\n",
            "CountVectorizer(analyzer='word', binary=False, decode_error='strict',\n",
            "                dtype=<class 'numpy.int64'>, encoding='utf-8', input='content',\n",
            "                lowercase=True, max_df=1.0, max_features=None, min_df=1,\n",
            "                ngram_range=(1, 1), preprocessor=None, stop_words=None,\n",
            "                strip_accents=None, token_pattern='(?u)\\\\b\\\\w\\\\w+\\\\b',\n",
            "                tokenizer=None, vocabulary=None)\n",
            "+BernoulliNB(alpha=1.0, binarize=0.0, class_prior=None, fit_prior=True)\n",
            "Points \t Accuracy\n",
            "85 \t 21.57%\n",
            "86 \t 21.32%\n",
            "87 \t 39.27%\n",
            "88 \t 31.43%\n",
            "89 \t 16.73%\n",
            "90 \t 30.82%\n",
            "91 \t 23.02%\n",
            "92 \t 23.81%\n",
            "93 \t 13.39%\n",
            "94 \t 3.84%\n",
            "\n",
            "\n",
            "\n"
          ],
          "name": "stdout"
        }
      ]
    }
  ]
}