{
  "nbformat": 4,
  "nbformat_minor": 0,
  "metadata": {
    "colab": {
      "name": "lb6.ipynb",
      "version": "0.3.2",
      "provenance": [],
      "collapsed_sections": [],
      "toc_visible": true
    },
    "kernelspec": {
      "name": "python3",
      "display_name": "Python 3"
    }
  },
  "cells": [
    {
      "cell_type": "markdown",
      "metadata": {
        "id": "LjvLZrVqHEus",
        "colab_type": "text"
      },
      "source": [
        "<div><h2>Лабораторная работа №5 по дисциплине «Методы машинного обучения»</h2>\n",
        "  по теме: \"Линейные модели, SVM и деревья решений\"\n",
        "\n",
        "  Цель лабораторной работы: изучение линейных моделей, SVM и деревьев решений.\n",
        "  \n",
        "\n"
      ]
    },
    {
      "cell_type": "code",
      "metadata": {
        "id": "zOe5C8QeFQwY",
        "colab_type": "code",
        "colab": {}
      },
      "source": [
        "import os\n",
        "import numpy as np\n",
        "import pandas as pd\n",
        "import seaborn as sb\n",
        "import matplotlib.pyplot as plt\n",
        "%matplotlib inline\n",
        "data = pd.read_csv(\"iris.csv\", sep=\",\")"
      ],
      "execution_count": 0,
      "outputs": []
    },
    {
      "cell_type": "code",
      "metadata": {
        "id": "HwuddKwxLW8R",
        "colab_type": "code",
        "outputId": "96949d9c-6876-4133-8838-b842d459a7e7",
        "colab": {
          "base_uri": "https://localhost:8080/",
          "height": 204
        }
      },
      "source": [
        "from sklearn.model_selection import train_test_split\n",
        "data=data.dropna(axis=0,how='any')\n",
        "data.head()"
      ],
      "execution_count": 0,
      "outputs": [
        {
          "output_type": "execute_result",
          "data": {
            "text/html": [
              "<div>\n",
              "<style scoped>\n",
              "    .dataframe tbody tr th:only-of-type {\n",
              "        vertical-align: middle;\n",
              "    }\n",
              "\n",
              "    .dataframe tbody tr th {\n",
              "        vertical-align: top;\n",
              "    }\n",
              "\n",
              "    .dataframe thead th {\n",
              "        text-align: right;\n",
              "    }\n",
              "</style>\n",
              "<table border=\"1\" class=\"dataframe\">\n",
              "  <thead>\n",
              "    <tr style=\"text-align: right;\">\n",
              "      <th></th>\n",
              "      <th>5.1</th>\n",
              "      <th>3.5</th>\n",
              "      <th>1.4</th>\n",
              "      <th>0.2</th>\n",
              "      <th>Iris-setosa</th>\n",
              "    </tr>\n",
              "  </thead>\n",
              "  <tbody>\n",
              "    <tr>\n",
              "      <th>0</th>\n",
              "      <td>4.9</td>\n",
              "      <td>3.0</td>\n",
              "      <td>1.4</td>\n",
              "      <td>0.2</td>\n",
              "      <td>Iris-setosa</td>\n",
              "    </tr>\n",
              "    <tr>\n",
              "      <th>1</th>\n",
              "      <td>4.7</td>\n",
              "      <td>3.2</td>\n",
              "      <td>1.3</td>\n",
              "      <td>0.2</td>\n",
              "      <td>Iris-setosa</td>\n",
              "    </tr>\n",
              "    <tr>\n",
              "      <th>2</th>\n",
              "      <td>4.6</td>\n",
              "      <td>3.1</td>\n",
              "      <td>1.5</td>\n",
              "      <td>0.2</td>\n",
              "      <td>Iris-setosa</td>\n",
              "    </tr>\n",
              "    <tr>\n",
              "      <th>3</th>\n",
              "      <td>5.0</td>\n",
              "      <td>3.6</td>\n",
              "      <td>1.4</td>\n",
              "      <td>0.2</td>\n",
              "      <td>Iris-setosa</td>\n",
              "    </tr>\n",
              "    <tr>\n",
              "      <th>4</th>\n",
              "      <td>5.4</td>\n",
              "      <td>3.9</td>\n",
              "      <td>1.7</td>\n",
              "      <td>0.4</td>\n",
              "      <td>Iris-setosa</td>\n",
              "    </tr>\n",
              "  </tbody>\n",
              "</table>\n",
              "</div>"
            ],
            "text/plain": [
              "   5.1  3.5  1.4  0.2  Iris-setosa\n",
              "0  4.9  3.0  1.4  0.2  Iris-setosa\n",
              "1  4.7  3.2  1.3  0.2  Iris-setosa\n",
              "2  4.6  3.1  1.5  0.2  Iris-setosa\n",
              "3  5.0  3.6  1.4  0.2  Iris-setosa\n",
              "4  5.4  3.9  1.7  0.4  Iris-setosa"
            ]
          },
          "metadata": {
            "tags": []
          },
          "execution_count": 74
        }
      ]
    },
    {
      "cell_type": "code",
      "metadata": {
        "id": "7aWVu4jMMhze",
        "colab_type": "code",
        "outputId": "3ab1f6ac-080b-409f-87eb-c1fa48ce34a5",
        "colab": {
          "base_uri": "https://localhost:8080/",
          "height": 119
        }
      },
      "source": [
        "data.dtypes"
      ],
      "execution_count": 0,
      "outputs": [
        {
          "output_type": "execute_result",
          "data": {
            "text/plain": [
              "5.1            float64\n",
              "3.5            float64\n",
              "1.4            float64\n",
              "0.2            float64\n",
              "Iris-setosa     object\n",
              "dtype: object"
            ]
          },
          "metadata": {
            "tags": []
          },
          "execution_count": 75
        }
      ]
    },
    {
      "cell_type": "code",
      "metadata": {
        "id": "_hOHqmXfOabL",
        "colab_type": "code",
        "colab": {}
      },
      "source": [
        "#Y = data.drop(data.columns[[0,1,2,3,4,5,6,7,8]],axis=\"columns\")\n",
        "#X = data.drop(data.columns[[8,9]],axis=\"columns\")\n",
        "Y = data.drop(data.columns[[0,1,2,3]],axis=\"columns\")\n",
        "X = data.drop(data.columns[[4]],axis=\"columns\")\n",
        "#768\n",
        "data_x_train, data_x_test, data_y_train, data_y_test = train_test_split(X,Y,test_size=0.2,random_state=1)"
      ],
      "execution_count": 0,
      "outputs": []
    },
    {
      "cell_type": "code",
      "metadata": {
        "id": "c5VA90IOSlvD",
        "colab_type": "code",
        "colab": {}
      },
      "source": [
        "from sklearn.linear_model import SGDClassifier\n",
        "from sklearn.svm import LinearSVC\n",
        "from sklearn.tree import DecisionTreeClassifier\n",
        "\n",
        "from sklearn.metrics import accuracy_score,precision_score\n",
        "from sklearn.metrics import balanced_accuracy_score\n",
        "from sklearn.metrics import cohen_kappa_score\n",
        "\n",
        "\n",
        "class Classifier():\n",
        "  def __init__(self, method, x_train, y_train, x_test, y_test):\n",
        "    self._method = method\n",
        "    self.x_train = x_train\n",
        "    self.y_train = y_train\n",
        "    self.x_test = x_test\n",
        "    self.y_test = y_test\n",
        "    self.tar1 = []\n",
        "    self.tar2 = []\n",
        "  def training(self):\n",
        "    self._method.fit(self.x_train,self.y_train)\n",
        "    self.tar1 = self._method.predict(self.x_train)\n",
        "    self.tar2 = self._method.predict(self.x_test)\n",
        "  def result(self,metric):\n",
        "    print(metric(self.y_train,self.tar1)*100)\n",
        "    print(metric(self.y_test,self.tar2)*100)\n",
        "  def result_er(self,metric):\n",
        "    print(metric(self.y_train,self.tar1))\n",
        "    print(metric(self.y_test,self.tar2))\n",
        "    "
      ],
      "execution_count": 0,
      "outputs": []
    },
    {
      "cell_type": "markdown",
      "metadata": {
        "id": "24L60DyOC4qu",
        "colab_type": "text"
      },
      "source": [
        "SGD -  реализует регуляризованные линейные модели с обучением по случайному градиентному спуску (SGD): градиент потерь оценивается для каждой выборки за раз, и модель обновляется по мере уменьшения  скорости обучения."
      ]
    },
    {
      "cell_type": "code",
      "metadata": {
        "id": "BTJNZK5fXFRs",
        "colab_type": "code",
        "outputId": "f88fdd25-ee37-4a3d-d79a-26b46ef558fb",
        "colab": {
          "base_uri": "https://localhost:8080/",
          "height": 207
        }
      },
      "source": [
        "#Линейные модели\n",
        "sgdlinear = Classifier(SGDClassifier(),data_x_train,data_y_train,data_x_test,data_y_test)\n",
        "sgdlinear.training()\n",
        "sgdlinear.result(accuracy_score)\n",
        "print(\"___________________________________\")\n",
        "sgdlinear.result(balanced_accuracy_score)\n",
        "print(\"___________________________________\")\n",
        "sgdlinear.result(cohen_kappa_score)\n"
      ],
      "execution_count": 0,
      "outputs": [
        {
          "output_type": "stream",
          "text": [
            "72.26890756302521\n",
            "56.666666666666664\n",
            "___________________________________\n",
            "70.27027027027026\n",
            "66.66666666666666\n",
            "___________________________________\n",
            "57.444733420026004\n",
            "40.90909090909091\n"
          ],
          "name": "stdout"
        },
        {
          "output_type": "stream",
          "text": [
            "/usr/local/lib/python3.6/dist-packages/sklearn/utils/validation.py:724: DataConversionWarning: A column-vector y was passed when a 1d array was expected. Please change the shape of y to (n_samples, ), for example using ravel().\n",
            "  y = column_or_1d(y, warn=True)\n"
          ],
          "name": "stderr"
        }
      ]
    },
    {
      "cell_type": "markdown",
      "metadata": {
        "id": "DJwkVCZdDHI2",
        "colab_type": "text"
      },
      "source": [
        "Классификация линейных опорных векторов.\n",
        "\n",
        "Подобно SVC с параметром kernel = 'linear', но реализован в терминах liblinear, а не libsvm, поэтому он обладает большей гибкостью в выборе штрафов и функций потерь и должен лучше масштабироваться для большого количества выборок."
      ]
    },
    {
      "cell_type": "code",
      "metadata": {
        "id": "neaXBthDCNEp",
        "colab_type": "code",
        "outputId": "f8f788c8-a3e4-4cc2-d79e-4b4981d387ea",
        "colab": {
          "base_uri": "https://localhost:8080/",
          "height": 241
        }
      },
      "source": [
        "svmlinear = Classifier(LinearSVC(C=1.0),data_x_train,data_y_train,data_x_test,data_y_test)\n",
        "svmlinear.training()\n",
        "svmlinear.result(accuracy_score)\n",
        "print(\"___________________________________\")\n",
        "svmlinear.result(balanced_accuracy_score)\n",
        "print(\"___________________________________\")\n",
        "svmlinear.result(cohen_kappa_score)"
      ],
      "execution_count": 0,
      "outputs": [
        {
          "output_type": "stream",
          "text": [
            "95.7983193277311\n",
            "100.0\n",
            "___________________________________\n",
            "95.4954954954955\n",
            "100.0\n",
            "___________________________________\n",
            "93.66482112436117\n",
            "100.0\n"
          ],
          "name": "stdout"
        },
        {
          "output_type": "stream",
          "text": [
            "/usr/local/lib/python3.6/dist-packages/sklearn/utils/validation.py:724: DataConversionWarning: A column-vector y was passed when a 1d array was expected. Please change the shape of y to (n_samples, ), for example using ravel().\n",
            "  y = column_or_1d(y, warn=True)\n",
            "/usr/local/lib/python3.6/dist-packages/sklearn/svm/base.py:929: ConvergenceWarning: Liblinear failed to converge, increase the number of iterations.\n",
            "  \"the number of iterations.\", ConvergenceWarning)\n"
          ],
          "name": "stderr"
        }
      ]
    },
    {
      "cell_type": "markdown",
      "metadata": {
        "id": "nd0VV8iMDMZu",
        "colab_type": "text"
      },
      "source": [
        "модель, которая прогнозирует значение целевой переменной путем изучения простых правил принятия решений, выведенных из функций данных.\n",
        "\n",
        "Например, в приведенном ниже примере деревья решений учатся на основе данных для аппроксимации синусоиды с набором правил принятия решений if-then-else. Чем глубже дерево, тем сложнее правила принятия решений и тем лучше модель."
      ]
    },
    {
      "cell_type": "code",
      "metadata": {
        "id": "q0HirRz-DMhv",
        "colab_type": "code",
        "outputId": "48bf1690-ea34-46c5-d847-140c734287c3",
        "colab": {
          "base_uri": "https://localhost:8080/",
          "height": 153
        }
      },
      "source": [
        "dtc = Classifier(DecisionTreeClassifier(random_state=1),data_x_train,data_y_train,data_x_test,data_y_test)\n",
        "dtc.training()\n",
        "dtc.result(accuracy_score)\n",
        "print(\"___________________________________\")\n",
        "\n",
        "dtc.result(balanced_accuracy_score)\n",
        "print(\"___________________________________\")\n",
        "dtc.result(cohen_kappa_score)"
      ],
      "execution_count": 0,
      "outputs": [
        {
          "output_type": "stream",
          "text": [
            "100.0\n",
            "96.66666666666667\n",
            "___________________________________\n",
            "100.0\n",
            "95.23809523809524\n",
            "___________________________________\n",
            "100.0\n",
            "94.79166666666666\n"
          ],
          "name": "stdout"
        }
      ]
    },
    {
      "cell_type": "markdown",
      "metadata": {
        "id": "lhsXfKWfDuVt",
        "colab_type": "text"
      },
      "source": [
        "### Подбор гиперпараметра К\n",
        "\n",
        "Linear\n"
      ]
    },
    {
      "cell_type": "code",
      "metadata": {
        "id": "XNLFuUXyDweD",
        "colab_type": "code",
        "outputId": "ab32bf45-3ae9-4225-d00b-632f1397309c",
        "colab": {
          "base_uri": "https://localhost:8080/",
          "height": 34
        }
      },
      "source": [
        "n_range = np.array(range(5,95,10))\n",
        "n_range = n_range/100\n",
        "tp=[{'l1_ratio':n_range}]\n",
        "tp"
      ],
      "execution_count": 0,
      "outputs": [
        {
          "output_type": "execute_result",
          "data": {
            "text/plain": [
              "[{'l1_ratio': array([0.05, 0.15, 0.25, 0.35, 0.45, 0.55, 0.65, 0.75, 0.85])}]"
            ]
          },
          "metadata": {
            "tags": []
          },
          "execution_count": 82
        }
      ]
    },
    {
      "cell_type": "code",
      "metadata": {
        "id": "_0YszDmQEW4e",
        "colab_type": "code",
        "colab": {}
      },
      "source": [
        "from sklearn.model_selection import GridSearchCV\n",
        "\n",
        "lgscv = GridSearchCV(SGDClassifier(),tp,cv=5,scoring='accuracy')\n",
        "lgscv.fit(data_x_train,data_y_train)"
      ],
      "execution_count": 0,
      "outputs": []
    },
    {
      "cell_type": "code",
      "metadata": {
        "id": "9I_teM1K4C64",
        "colab_type": "code",
        "outputId": "cd4adc5e-6ae0-43fa-eae9-f43814a10917",
        "colab": {
          "base_uri": "https://localhost:8080/",
          "height": 34
        }
      },
      "source": [
        "lgscv.best_params_"
      ],
      "execution_count": 0,
      "outputs": [
        {
          "output_type": "execute_result",
          "data": {
            "text/plain": [
              "{'l1_ratio': 0.45}"
            ]
          },
          "metadata": {
            "tags": []
          },
          "execution_count": 84
        }
      ]
    },
    {
      "cell_type": "code",
      "metadata": {
        "id": "12PhQCv6FCZb",
        "colab_type": "code",
        "outputId": "7efd4ad4-4c0a-434a-d9ef-77d659052dd8",
        "colab": {
          "base_uri": "https://localhost:8080/",
          "height": 286
        }
      },
      "source": [
        "plt.plot(n_range,lgscv.cv_results_['mean_test_score'])"
      ],
      "execution_count": 0,
      "outputs": [
        {
          "output_type": "execute_result",
          "data": {
            "text/plain": [
              "[<matplotlib.lines.Line2D at 0x7f0b0b15d278>]"
            ]
          },
          "metadata": {
            "tags": []
          },
          "execution_count": 85
        },
        {
          "output_type": "display_data",
          "data": {
            "image/png": "[encoded data removed]",
            "text/plain": [
              "<Figure size 432x288 with 1 Axes>"
            ]
          },
          "metadata": {
            "tags": []
          }
        }
      ]
    },
    {
      "cell_type": "markdown",
      "metadata": {
        "id": "iYhsHlJaFQrd",
        "colab_type": "text"
      },
      "source": [
        "CVM"
      ]
    },
    {
      "cell_type": "markdown",
      "metadata": {
        "id": "BMP8-wAhFTeq",
        "colab_type": "text"
      },
      "source": [
        ""
      ]
    },
    {
      "cell_type": "code",
      "metadata": {
        "id": "ylPnvtrGFdAy",
        "colab_type": "code",
        "outputId": "ff146b75-1521-4517-d63f-f96a4e30a8ba",
        "colab": {
          "base_uri": "https://localhost:8080/",
          "height": 34
        }
      },
      "source": [
        "n_range = np.array(range(1,7,1))\n",
        "tp=[{'C':n_range}]\n",
        "tp"
      ],
      "execution_count": 0,
      "outputs": [
        {
          "output_type": "execute_result",
          "data": {
            "text/plain": [
              "[{'C': array([1, 2, 3, 4, 5, 6])}]"
            ]
          },
          "metadata": {
            "tags": []
          },
          "execution_count": 86
        }
      ]
    },
    {
      "cell_type": "code",
      "metadata": {
        "id": "T8cr8QxxFlhy",
        "colab_type": "code",
        "colab": {}
      },
      "source": [
        "cgscv = GridSearchCV(LinearSVC(),tp,cv=5,scoring='accuracy')\n",
        "cgscv.fit(data_x_train,data_y_train)"
      ],
      "execution_count": 0,
      "outputs": []
    },
    {
      "cell_type": "code",
      "metadata": {
        "id": "gkvmn6m_4ko4",
        "colab_type": "code",
        "outputId": "c96b9462-41df-475f-f811-1291f40af896",
        "colab": {
          "base_uri": "https://localhost:8080/",
          "height": 34
        }
      },
      "source": [
        "cgscv.best_params_"
      ],
      "execution_count": 0,
      "outputs": [
        {
          "output_type": "execute_result",
          "data": {
            "text/plain": [
              "{'C': 3}"
            ]
          },
          "metadata": {
            "tags": []
          },
          "execution_count": 88
        }
      ]
    },
    {
      "cell_type": "code",
      "metadata": {
        "id": "0j9RVWi3GED-",
        "colab_type": "code",
        "outputId": "8674a0ca-8a91-4e6a-dd5e-8d89b132e97a",
        "colab": {
          "base_uri": "https://localhost:8080/",
          "height": 286
        }
      },
      "source": [
        "plt.plot(n_range,cgscv.cv_results_['mean_test_score'])"
      ],
      "execution_count": 0,
      "outputs": [
        {
          "output_type": "execute_result",
          "data": {
            "text/plain": [
              "[<matplotlib.lines.Line2D at 0x7f0b0b138978>]"
            ]
          },
          "metadata": {
            "tags": []
          },
          "execution_count": 89
        },
        {
          "output_type": "display_data",
          "data": {
            "image/png": "[encoded data removed]",
            "text/plain": [
              "<Figure size 432x288 with 1 Axes>"
            ]
          },
          "metadata": {
            "tags": []
          }
        }
      ]
    },
    {
      "cell_type": "markdown",
      "metadata": {
        "id": "iHv1TUgVGL6F",
        "colab_type": "text"
      },
      "source": [
        "Tree"
      ]
    },
    {
      "cell_type": "code",
      "metadata": {
        "id": "O1guNqkVGM0B",
        "colab_type": "code",
        "outputId": "b17a3747-45d9-45bc-fd7c-4670d1d42b48",
        "colab": {
          "base_uri": "https://localhost:8080/",
          "height": 34
        }
      },
      "source": [
        "n_range = np.array(range(1,10,1))\n",
        "tp=[{'max_depth':n_range}]\n",
        "tp"
      ],
      "execution_count": 0,
      "outputs": [
        {
          "output_type": "execute_result",
          "data": {
            "text/plain": [
              "[{'max_depth': array([1, 2, 3, 4, 5, 6, 7, 8, 9])}]"
            ]
          },
          "metadata": {
            "tags": []
          },
          "execution_count": 90
        }
      ]
    },
    {
      "cell_type": "code",
      "metadata": {
        "id": "IvDhgeJDGOxh",
        "colab_type": "code",
        "outputId": "c92f1610-b9a0-4080-ebb1-bd0d4dcc61f7",
        "colab": {
          "base_uri": "https://localhost:8080/",
          "height": 343
        }
      },
      "source": [
        "tgscv = GridSearchCV(DecisionTreeClassifier(random_state=1),tp,cv=5,scoring='accuracy')\n",
        "tgscv.fit(data_x_train,data_y_train)\n"
      ],
      "execution_count": 0,
      "outputs": [
        {
          "output_type": "stream",
          "text": [
            "/usr/local/lib/python3.6/dist-packages/sklearn/model_selection/_search.py:813: DeprecationWarning: The default of the `iid` parameter will change from True to False in version 0.22 and will be removed in 0.24. This will change numeric results when test-set sizes are unequal.\n",
            "  DeprecationWarning)\n"
          ],
          "name": "stderr"
        },
        {
          "output_type": "execute_result",
          "data": {
            "text/plain": [
              "GridSearchCV(cv=5, error_score='raise-deprecating',\n",
              "             estimator=DecisionTreeClassifier(class_weight=None,\n",
              "                                              criterion='gini', max_depth=None,\n",
              "                                              max_features=None,\n",
              "                                              max_leaf_nodes=None,\n",
              "                                              min_impurity_decrease=0.0,\n",
              "                                              min_impurity_split=None,\n",
              "                                              min_samples_leaf=1,\n",
              "                                              min_samples_split=2,\n",
              "                                              min_weight_fraction_leaf=0.0,\n",
              "                                              presort=False, random_state=1,\n",
              "                                              splitter='best'),\n",
              "             iid='warn', n_jobs=None,\n",
              "             param_grid=[{'max_depth': array([1, 2, 3, 4, 5, 6, 7, 8, 9])}],\n",
              "             pre_dispatch='2*n_jobs', refit=True, return_train_score=False,\n",
              "             scoring='accuracy', verbose=0)"
            ]
          },
          "metadata": {
            "tags": []
          },
          "execution_count": 91
        }
      ]
    },
    {
      "cell_type": "code",
      "metadata": {
        "id": "Pbx5xler4nje",
        "colab_type": "code",
        "outputId": "77cce719-ddb4-4729-b922-51a61def4571",
        "colab": {
          "base_uri": "https://localhost:8080/",
          "height": 34
        }
      },
      "source": [
        "tgscv.best_params_"
      ],
      "execution_count": 0,
      "outputs": [
        {
          "output_type": "execute_result",
          "data": {
            "text/plain": [
              "{'max_depth': 3}"
            ]
          },
          "metadata": {
            "tags": []
          },
          "execution_count": 92
        }
      ]
    },
    {
      "cell_type": "code",
      "metadata": {
        "id": "QAnYNLdXGQ4x",
        "colab_type": "code",
        "outputId": "580e4d4b-66d7-4c95-d901-62e645c003d6",
        "colab": {
          "base_uri": "https://localhost:8080/",
          "height": 286
        }
      },
      "source": [
        "plt.plot(n_range,tgscv.cv_results_['mean_test_score'])"
      ],
      "execution_count": 0,
      "outputs": [
        {
          "output_type": "execute_result",
          "data": {
            "text/plain": [
              "[<matplotlib.lines.Line2D at 0x7f0b0b08af60>]"
            ]
          },
          "metadata": {
            "tags": []
          },
          "execution_count": 93
        },
        {
          "output_type": "display_data",
          "data": {
            "image/png": "[encoded data removed]",
            "text/plain": [
              "<Figure size 432x288 with 1 Axes>"
            ]
          },
          "metadata": {
            "tags": []
          }
        }
      ]
    },
    {
      "cell_type": "markdown",
      "metadata": {
        "id": "L0z7qfJ4G_YI",
        "colab_type": "text"
      },
      "source": [
        "### Сравнение моделей"
      ]
    },
    {
      "cell_type": "code",
      "metadata": {
        "id": "0yBqEoAHHBnp",
        "colab_type": "code",
        "outputId": "5a2b7891-1132-4f1a-c790-99f22817a171",
        "colab": {
          "base_uri": "https://localhost:8080/",
          "height": 156
        }
      },
      "source": [
        "#Линейные модели\n",
        "sgdlinear.result(balanced_accuracy_score)\n",
        "print(\"___________________________________\")\n",
        "sgdlinear = Classifier(SGDClassifier(l1_ratio=0.85),data_x_train,data_y_train,data_x_test,data_y_test)\n",
        "sgdlinear.training()\n",
        "sgdlinear.result(balanced_accuracy_score)"
      ],
      "execution_count": 0,
      "outputs": [
        {
          "output_type": "stream",
          "text": [
            "70.27027027027026\n",
            "66.66666666666666\n",
            "___________________________________\n",
            "67.56756756756758\n",
            "66.66666666666666\n"
          ],
          "name": "stdout"
        },
        {
          "output_type": "stream",
          "text": [
            "/usr/local/lib/python3.6/dist-packages/sklearn/utils/validation.py:724: DataConversionWarning: A column-vector y was passed when a 1d array was expected. Please change the shape of y to (n_samples, ), for example using ravel().\n",
            "  y = column_or_1d(y, warn=True)\n"
          ],
          "name": "stderr"
        }
      ]
    },
    {
      "cell_type": "code",
      "metadata": {
        "id": "WLsOZD19Ioo3",
        "colab_type": "code",
        "outputId": "50fbbd72-498b-442d-b7a8-951800bf3696",
        "colab": {
          "base_uri": "https://localhost:8080/",
          "height": 190
        }
      },
      "source": [
        "#svm\n",
        "svmlinear.result(balanced_accuracy_score)\n",
        "print(\"___________________________________\")\n",
        "svmlinear = Classifier(LinearSVC(C=3),data_x_train,data_y_train,data_x_test,data_y_test)\n",
        "svmlinear.training()\n",
        "svmlinear.result(accuracy_score)\n"
      ],
      "execution_count": 0,
      "outputs": [
        {
          "output_type": "stream",
          "text": [
            "95.4954954954955\n",
            "100.0\n",
            "___________________________________\n",
            "95.7983193277311\n",
            "100.0\n"
          ],
          "name": "stdout"
        },
        {
          "output_type": "stream",
          "text": [
            "/usr/local/lib/python3.6/dist-packages/sklearn/utils/validation.py:724: DataConversionWarning: A column-vector y was passed when a 1d array was expected. Please change the shape of y to (n_samples, ), for example using ravel().\n",
            "  y = column_or_1d(y, warn=True)\n",
            "/usr/local/lib/python3.6/dist-packages/sklearn/svm/base.py:929: ConvergenceWarning: Liblinear failed to converge, increase the number of iterations.\n",
            "  \"the number of iterations.\", ConvergenceWarning)\n"
          ],
          "name": "stderr"
        }
      ]
    },
    {
      "cell_type": "code",
      "metadata": {
        "id": "WgigfClYHfXA",
        "colab_type": "code",
        "outputId": "58a9d17d-18d0-4a26-a343-a16a07fc789d",
        "colab": {
          "base_uri": "https://localhost:8080/",
          "height": 102
        }
      },
      "source": [
        "#DTC\n",
        "dtc.result(balanced_accuracy_score)\n",
        "print(\"___________________________________\")\n",
        "dtc = Classifier(DecisionTreeClassifier(random_state=3),data_x_train,data_y_train,data_x_test,data_y_test)\n",
        "dtc.training()\n",
        "dtc.result(balanced_accuracy_score)\n",
        "\n"
      ],
      "execution_count": 0,
      "outputs": [
        {
          "output_type": "stream",
          "text": [
            "100.0\n",
            "95.23809523809524\n",
            "___________________________________\n",
            "100.0\n",
            "95.23809523809524\n"
          ],
          "name": "stdout"
        }
      ]
    }
  ]
}