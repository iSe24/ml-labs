{
  "nbformat": 4,
  "nbformat_minor": 0,
  "metadata": {
    "colab": {
      "name": "lb5.ipynb",
      "version": "0.3.2",
      "provenance": [],
      "collapsed_sections": [],
      "toc_visible": true
    },
    "kernelspec": {
      "name": "python3",
      "display_name": "Python 3"
    }
  },
  "cells": [
    {
      "cell_type": "markdown",
      "metadata": {
        "id": "USKE0-nLQfJe",
        "colab_type": "text"
      },
      "source": [
        "<div><h2>Лабораторная работа №6 по дисциплине «Методы машинного обучения»</h2>\n",
        "  по теме: \"Ансамбли моделей машинного обучения\"\n",
        "\n",
        "  Цель лабораторной работы: изучение ансамблей моделей машинного обучения."
      ]
    },
    {
      "cell_type": "code",
      "metadata": {
        "id": "jZRlGgv8QXLr",
        "colab_type": "code",
        "colab": {}
      },
      "source": [
        "import os\n",
        "import numpy as np\n",
        "import pandas as pd\n",
        "import seaborn as sb\n",
        "import matplotlib.pyplot as plt\n",
        "%matplotlib inline\n",
        "data = pd.read_csv(\"iris.csv\", sep=\",\")"
      ],
      "execution_count": 0,
      "outputs": []
    },
    {
      "cell_type": "code",
      "metadata": {
        "id": "2fOmmQUHQy3F",
        "colab_type": "code",
        "outputId": "fd48e402-0fc2-4644-f7eb-204375ab4b2a",
        "colab": {
          "base_uri": "https://localhost:8080/",
          "height": 204
        }
      },
      "source": [
        "from sklearn.model_selection import train_test_split\n",
        "data=data.dropna(axis=0,how='any')\n",
        "data.head()"
      ],
      "execution_count": 22,
      "outputs": [
        {
          "output_type": "execute_result",
          "data": {
            "text/html": [
              "<div>\n",
              "<style scoped>\n",
              "    .dataframe tbody tr th:only-of-type {\n",
              "        vertical-align: middle;\n",
              "    }\n",
              "\n",
              "    .dataframe tbody tr th {\n",
              "        vertical-align: top;\n",
              "    }\n",
              "\n",
              "    .dataframe thead th {\n",
              "        text-align: right;\n",
              "    }\n",
              "</style>\n",
              "<table border=\"1\" class=\"dataframe\">\n",
              "  <thead>\n",
              "    <tr style=\"text-align: right;\">\n",
              "      <th></th>\n",
              "      <th>5.1</th>\n",
              "      <th>3.5</th>\n",
              "      <th>1.4</th>\n",
              "      <th>0.2</th>\n",
              "      <th>Iris-setosa</th>\n",
              "    </tr>\n",
              "  </thead>\n",
              "  <tbody>\n",
              "    <tr>\n",
              "      <th>0</th>\n",
              "      <td>4.9</td>\n",
              "      <td>3.0</td>\n",
              "      <td>1.4</td>\n",
              "      <td>0.2</td>\n",
              "      <td>Iris-setosa</td>\n",
              "    </tr>\n",
              "    <tr>\n",
              "      <th>1</th>\n",
              "      <td>4.7</td>\n",
              "      <td>3.2</td>\n",
              "      <td>1.3</td>\n",
              "      <td>0.2</td>\n",
              "      <td>Iris-setosa</td>\n",
              "    </tr>\n",
              "    <tr>\n",
              "      <th>2</th>\n",
              "      <td>4.6</td>\n",
              "      <td>3.1</td>\n",
              "      <td>1.5</td>\n",
              "      <td>0.2</td>\n",
              "      <td>Iris-setosa</td>\n",
              "    </tr>\n",
              "    <tr>\n",
              "      <th>3</th>\n",
              "      <td>5.0</td>\n",
              "      <td>3.6</td>\n",
              "      <td>1.4</td>\n",
              "      <td>0.2</td>\n",
              "      <td>Iris-setosa</td>\n",
              "    </tr>\n",
              "    <tr>\n",
              "      <th>4</th>\n",
              "      <td>5.4</td>\n",
              "      <td>3.9</td>\n",
              "      <td>1.7</td>\n",
              "      <td>0.4</td>\n",
              "      <td>Iris-setosa</td>\n",
              "    </tr>\n",
              "  </tbody>\n",
              "</table>\n",
              "</div>"
            ],
            "text/plain": [
              "   5.1  3.5  1.4  0.2  Iris-setosa\n",
              "0  4.9  3.0  1.4  0.2  Iris-setosa\n",
              "1  4.7  3.2  1.3  0.2  Iris-setosa\n",
              "2  4.6  3.1  1.5  0.2  Iris-setosa\n",
              "3  5.0  3.6  1.4  0.2  Iris-setosa\n",
              "4  5.4  3.9  1.7  0.4  Iris-setosa"
            ]
          },
          "metadata": {
            "tags": []
          },
          "execution_count": 22
        }
      ]
    },
    {
      "cell_type": "code",
      "metadata": {
        "id": "Q5nQoV_aQzAT",
        "colab_type": "code",
        "colab": {}
      },
      "source": [
        "Y = data.drop(data.columns[[0,1,2,3]],axis=\"columns\")\n",
        "X = data.drop(data.columns[[4]],axis=\"columns\")\n",
        "#768\n",
        "data_x_train, data_x_test, data_y_train, data_y_test = train_test_split(X,Y,test_size=0.2,random_state=1)"
      ],
      "execution_count": 0,
      "outputs": []
    },
    {
      "cell_type": "code",
      "metadata": {
        "id": "fl8SSoCxQzDU",
        "colab_type": "code",
        "colab": {}
      },
      "source": [
        "from sklearn.linear_model import SGDClassifier\n",
        "from sklearn.svm import LinearSVC\n",
        "from sklearn.tree import DecisionTreeClassifier\n",
        "from sklearn.model_selection import GridSearchCV\n",
        "from sklearn.metrics import accuracy_score,precision_score\n",
        "from sklearn.metrics import balanced_accuracy_score\n",
        "from sklearn.metrics import cohen_kappa_score\n",
        "\n",
        "\n",
        "class Classifier():\n",
        "  def __init__(self, method, x_train, y_train, x_test, y_test):\n",
        "    self._method = method\n",
        "    self.x_train = x_train\n",
        "    self.y_train = y_train\n",
        "    self.x_test = x_test\n",
        "    self.y_test = y_test\n",
        "    self.tar1 = []\n",
        "    self.tar2 = []\n",
        "  def training(self):\n",
        "    self._method.fit(self.x_train,self.y_train)\n",
        "    self.tar1 = self._method.predict(self.x_train)\n",
        "    self.tar2 = self._method.predict(self.x_test)\n",
        "  def result(self,metric):\n",
        "    print(metric(self.y_train,self.tar1)*10)\n",
        "    print(metric(self.y_test,self.tar2)*10)\n",
        "  def result_er(self,metric):\n",
        "    print(metric(self.y_train,self.tar1))\n",
        "    print(metric(self.y_test,self.tar2))\n",
        "    \n",
        "                                                    # metric(self.y_test,self.tar2)))\n"
      ],
      "execution_count": 0,
      "outputs": []
    },
    {
      "cell_type": "markdown",
      "metadata": {
        "id": "x6e3HwSBRNz0",
        "colab_type": "text"
      },
      "source": [
        "Ансамблевые методы — это парадигма машинного обучения, где несколько моделей (часто называемых «слабыми учениками») обучаются для решения одной и той же проблемы и объединяются для получения лучших результатов. Основная гипотеза состоит в том, что при правильном сочетании слабых моделей мы можем получить более точные и/или надежные модели."
      ]
    },
    {
      "cell_type": "code",
      "metadata": {
        "id": "WDYuFiD2QzFw",
        "colab_type": "code",
        "colab": {}
      },
      "source": [
        "from sklearn.ensemble import RandomForestClassifier, GradientBoostingClassifier\n",
        "from sklearn.metrics import mean_squared_error\n",
        "data = pd.read_csv(\"iris.csv\", sep=\",\",header=None,names=[\"x\",\"y\",\"z\",\"w\",\"fl\"])\n",
        "data.fl.replace({\"Iris-setosa\":'1',\"Iris-versicolor\":'2',\"Iris-virginica\":'3'},inplace=True)\n",
        "Y = data.drop(data.columns[[0,1,2,3]],axis=\"columns\")\n",
        "X = data.drop(data.columns[[4]],axis=\"columns\")\n",
        "#768\n",
        "data_x_train, data_x_test, data_y_train, data_y_test = train_test_split(X,Y,test_size=0.2,random_state=3)"
      ],
      "execution_count": 0,
      "outputs": []
    },
    {
      "cell_type": "markdown",
      "metadata": {
        "id": "N4jhT9wvRSXD",
        "colab_type": "text"
      },
      "source": [
        "RFC - Случайный лес - это метаоценщик, который соответствует ряду классификаторов дерева решений для различных подвыборок набора данных и использует усреднение для повышения точности прогнозирования и переопределения контроля."
      ]
    },
    {
      "cell_type": "code",
      "metadata": {
        "id": "AjyqEhmBRQc0",
        "colab_type": "code",
        "outputId": "e1c6f712-027a-47b7-f059-c3f368edb032",
        "colab": {
          "base_uri": "https://localhost:8080/",
          "height": 122
        }
      },
      "source": [
        "rfc=Classifier(RandomForestClassifier(max_features=0.2),data_x_train,data_y_train,data_x_test,data_y_test)\n",
        "rfc.training()\n",
        "rfc.result_er(mean_squared_error)"
      ],
      "execution_count": 26,
      "outputs": [
        {
          "output_type": "stream",
          "text": [
            "0.016666666666666666\n",
            "0.0\n"
          ],
          "name": "stdout"
        },
        {
          "output_type": "stream",
          "text": [
            "/usr/local/lib/python3.6/dist-packages/sklearn/ensemble/forest.py:245: FutureWarning: The default value of n_estimators will change from 10 in version 0.20 to 100 in 0.22.\n",
            "  \"10 in version 0.20 to 100 in 0.22.\", FutureWarning)\n",
            "/usr/local/lib/python3.6/dist-packages/ipykernel_launcher.py:20: DataConversionWarning: A column-vector y was passed when a 1d array was expected. Please change the shape of y to (n_samples,), for example using ravel().\n"
          ],
          "name": "stderr"
        }
      ]
    },
    {
      "cell_type": "markdown",
      "metadata": {
        "id": "KhWAkhKWRVUL",
        "colab_type": "text"
      },
      "source": [
        "GBC - Классификатор повышения градиента является аддитивным ансамблем базовой модели, ошибка которого исправляется в последовательных итерациях (или этапах) путем добавления деревьев регрессии, которые исправляют невязки (ошибка предыдущего этапа)."
      ]
    },
    {
      "cell_type": "code",
      "metadata": {
        "id": "6G-Pbj9aRQiL",
        "colab_type": "code",
        "outputId": "7963e418-ffde-49a0-abf7-3bac288020f2",
        "colab": {
          "base_uri": "https://localhost:8080/",
          "height": 105
        }
      },
      "source": [
        "gbc=Classifier(GradientBoostingClassifier(max_features=0.7),data_x_train,data_y_train,data_x_test,data_y_test)\n",
        "gbc.training()\n",
        "gbc.result_er(mean_squared_error)"
      ],
      "execution_count": 27,
      "outputs": [
        {
          "output_type": "stream",
          "text": [
            "/usr/local/lib/python3.6/dist-packages/sklearn/ensemble/gradient_boosting.py:1450: DataConversionWarning: A column-vector y was passed when a 1d array was expected. Please change the shape of y to (n_samples, ), for example using ravel().\n",
            "  y = column_or_1d(y, warn=True)\n"
          ],
          "name": "stderr"
        },
        {
          "output_type": "stream",
          "text": [
            "0.0\n",
            "0.0\n"
          ],
          "name": "stdout"
        }
      ]
    },
    {
      "cell_type": "markdown",
      "metadata": {
        "id": "NOm3IBxERZVL",
        "colab_type": "text"
      },
      "source": [
        "<h1> Подбор гиперпараметра К</h1>\n",
        "​\n",
        "RFC"
      ]
    },
    {
      "cell_type": "code",
      "metadata": {
        "id": "GGC6eedZRZ2N",
        "colab_type": "code",
        "outputId": "67ee240f-9450-4cb5-c0a5-b0a7f398be85",
        "colab": {
          "base_uri": "https://localhost:8080/",
          "height": 34
        }
      },
      "source": [
        "n_range = np.array(range(1,11,1))\n",
        "n_range = n_range/10\n",
        "tp=[{'max_features':n_range}]\n",
        "tp"
      ],
      "execution_count": 28,
      "outputs": [
        {
          "output_type": "execute_result",
          "data": {
            "text/plain": [
              "[{'max_features': array([0.1, 0.2, 0.3, 0.4, 0.5, 0.6, 0.7, 0.8, 0.9, 1. ])}]"
            ]
          },
          "metadata": {
            "tags": []
          },
          "execution_count": 28
        }
      ]
    },
    {
      "cell_type": "code",
      "metadata": {
        "id": "7FLcJRd8RcjL",
        "colab_type": "code",
        "colab": {}
      },
      "source": [
        "rfcgscv = GridSearchCV(RandomForestClassifier(),tp,cv=6,scoring='accuracy')\n",
        "rfcgscv.fit(data_x_train,data_y_train)"
      ],
      "execution_count": 0,
      "outputs": []
    },
    {
      "cell_type": "code",
      "metadata": {
        "id": "qvUrY4GFRd5L",
        "colab_type": "code",
        "outputId": "9a4f4523-8912-4325-dd8d-7e367607ba72",
        "colab": {
          "base_uri": "https://localhost:8080/",
          "height": 34
        }
      },
      "source": [
        "rfcgscv.best_params_"
      ],
      "execution_count": 30,
      "outputs": [
        {
          "output_type": "execute_result",
          "data": {
            "text/plain": [
              "{'max_features': 0.2}"
            ]
          },
          "metadata": {
            "tags": []
          },
          "execution_count": 30
        }
      ]
    },
    {
      "cell_type": "code",
      "metadata": {
        "id": "R5avB0_aRgc7",
        "colab_type": "code",
        "outputId": "a7141885-a759-402f-aea2-b84e9aca2430",
        "colab": {
          "base_uri": "https://localhost:8080/",
          "height": 286
        }
      },
      "source": [
        "plt.plot(n_range,rfcgscv.cv_results_['mean_test_score'])"
      ],
      "execution_count": 31,
      "outputs": [
        {
          "output_type": "execute_result",
          "data": {
            "text/plain": [
              "[<matplotlib.lines.Line2D at 0x7fce0e01e5c0>]"
            ]
          },
          "metadata": {
            "tags": []
          },
          "execution_count": 31
        },
        {
          "output_type": "display_data",
          "data": {
            "image/png": "[encoded data removed]",
            "text/plain": [
              "<Figure size 432x288 with 1 Axes>"
            ]
          },
          "metadata": {
            "tags": []
          }
        }
      ]
    },
    {
      "cell_type": "markdown",
      "metadata": {
        "id": "1WDhgAYhSG2M",
        "colab_type": "text"
      },
      "source": [
        "GBC"
      ]
    },
    {
      "cell_type": "code",
      "metadata": {
        "id": "qICnK9npRjWt",
        "colab_type": "code",
        "outputId": "e294ee78-3ba4-48a6-92e7-366107a34b56",
        "colab": {
          "base_uri": "https://localhost:8080/",
          "height": 34
        }
      },
      "source": [
        "n_range = np.array(range(1,11,1))\n",
        "n_range = n_range/10\n",
        "tp=[{'max_features':n_range}]\n",
        "tp"
      ],
      "execution_count": 32,
      "outputs": [
        {
          "output_type": "execute_result",
          "data": {
            "text/plain": [
              "[{'max_features': array([0.1, 0.2, 0.3, 0.4, 0.5, 0.6, 0.7, 0.8, 0.9, 1. ])}]"
            ]
          },
          "metadata": {
            "tags": []
          },
          "execution_count": 32
        }
      ]
    },
    {
      "cell_type": "code",
      "metadata": {
        "id": "a8j48xG-RjZV",
        "colab_type": "code",
        "colab": {}
      },
      "source": [
        "gbcgscv = GridSearchCV(GradientBoostingClassifier(),tp,cv=5,scoring='accuracy')\n",
        "gbcgscv.fit(data_x_train,data_y_train)"
      ],
      "execution_count": 0,
      "outputs": []
    },
    {
      "cell_type": "code",
      "metadata": {
        "id": "x7Rh72s6Rjcc",
        "colab_type": "code",
        "outputId": "59cb3764-9c35-4f89-b7a9-71ef43d4eed5",
        "colab": {
          "base_uri": "https://localhost:8080/",
          "height": 34
        }
      },
      "source": [
        "gbcgscv.best_params_"
      ],
      "execution_count": 34,
      "outputs": [
        {
          "output_type": "execute_result",
          "data": {
            "text/plain": [
              "{'max_features': 0.1}"
            ]
          },
          "metadata": {
            "tags": []
          },
          "execution_count": 34
        }
      ]
    },
    {
      "cell_type": "markdown",
      "metadata": {
        "id": "_tNRgjh8bJcy",
        "colab_type": "text"
      },
      "source": [
        "&nbsp;"
      ]
    },
    {
      "cell_type": "code",
      "metadata": {
        "id": "CAk0cr26RmlU",
        "colab_type": "code",
        "outputId": "4127eed3-edfe-42e2-e2f9-87760d2e409f",
        "colab": {
          "base_uri": "https://localhost:8080/",
          "height": 303
        }
      },
      "source": [
        "print(plt.plot(n_range,gbcgscv.cv_results_['mean_test_score']))\n",
        "print(\"\")"
      ],
      "execution_count": 35,
      "outputs": [
        {
          "output_type": "stream",
          "text": [
            "[<matplotlib.lines.Line2D object at 0x7fce0e018048>]\n",
            "\n"
          ],
          "name": "stdout"
        },
        {
          "output_type": "display_data",
          "data": {
            "image/png": "[encoded data removed]",
            "text/plain": [
              "<Figure size 432x288 with 1 Axes>"
            ]
          },
          "metadata": {
            "tags": []
          }
        }
      ]
    },
    {
      "cell_type": "markdown",
      "metadata": {
        "id": "PnnPCFKYRpnN",
        "colab_type": "text"
      },
      "source": [
        "&nbsp;\n",
        "# <div>Сравнение случайного параметра с полученным наилучшим </div>\n",
        "Сравним резулультаты моделей с использованием случайных фитч и с их результатами при использовании найденных оптимальных"
      ]
    },
    {
      "cell_type": "code",
      "metadata": {
        "id": "5TrIgKV8RtzR",
        "colab_type": "code",
        "outputId": "6f3734d8-bccd-43d6-b2da-a6f43c9af894",
        "colab": {
          "base_uri": "https://localhost:8080/",
          "height": 173
        }
      },
      "source": [
        "rfc.result_er(mean_squared_error)\n",
        "print(\"vs\")\n",
        "rfc2=Classifier(RandomForestClassifier(max_features=3),data_x_train,data_y_train,data_x_test,data_y_test)\n",
        "rfc2.training()\n",
        "rfc2.result_er(mean_squared_error)\n"
      ],
      "execution_count": 36,
      "outputs": [
        {
          "output_type": "stream",
          "text": [
            "0.016666666666666666\n",
            "0.0\n",
            "vs\n",
            "0.008333333333333333\n",
            "0.0\n"
          ],
          "name": "stdout"
        },
        {
          "output_type": "stream",
          "text": [
            "/usr/local/lib/python3.6/dist-packages/sklearn/ensemble/forest.py:245: FutureWarning: The default value of n_estimators will change from 10 in version 0.20 to 100 in 0.22.\n",
            "  \"10 in version 0.20 to 100 in 0.22.\", FutureWarning)\n",
            "/usr/local/lib/python3.6/dist-packages/ipykernel_launcher.py:20: DataConversionWarning: A column-vector y was passed when a 1d array was expected. Please change the shape of y to (n_samples,), for example using ravel().\n"
          ],
          "name": "stderr"
        }
      ]
    },
    {
      "cell_type": "code",
      "metadata": {
        "id": "GRhcAZcPRv1E",
        "colab_type": "code",
        "outputId": "633beea2-6c64-452e-9f71-ef623653b452",
        "colab": {
          "base_uri": "https://localhost:8080/",
          "height": 156
        }
      },
      "source": [
        "gbc.result_er(mean_squared_error)\n",
        "print(\"vs\")\n",
        "gbc2=Classifier(GradientBoostingClassifier(max_features=2),data_x_train,data_y_train,data_x_test,data_y_test)\n",
        "gbc2.training()\n",
        "gbc2.result_er(mean_squared_error)"
      ],
      "execution_count": 42,
      "outputs": [
        {
          "output_type": "stream",
          "text": [
            "0.0\n",
            "0.0\n",
            "vs\n",
            "0.0\n",
            "0.0\n"
          ],
          "name": "stdout"
        },
        {
          "output_type": "stream",
          "text": [
            "/usr/local/lib/python3.6/dist-packages/sklearn/ensemble/gradient_boosting.py:1450: DataConversionWarning: A column-vector y was passed when a 1d array was expected. Please change the shape of y to (n_samples, ), for example using ravel().\n",
            "  y = column_or_1d(y, warn=True)\n"
          ],
          "name": "stderr"
        }
      ]
    }
  ]
}