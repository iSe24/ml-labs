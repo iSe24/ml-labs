{
  "nbformat": 4,
  "nbformat_minor": 0,
  "metadata": {
    "colab": {
      "name": "Laba_4.ipynb",
      "version": "0.3.2",
      "provenance": [],
      "collapsed_sections": [],
      "toc_visible": true
    },
    "language_info": {
      "codemirror_mode": {
        "name": "ipython",
        "version": 3
      },
      "file_extension": ".py",
      "mimetype": "text/x-python",
      "name": "python",
      "nbconvert_exporter": "python",
      "pygments_lexer": "ipython3",
      "version": "3.6.3"
    },
    "authors": [
      {
        "name": "Попков В.Е."
      }
    ],
    "kernelspec": {
      "display_name": "Python 3",
      "language": "python",
      "name": "python3"
    }
  },
  "cells": [
    {
      "metadata": {
        "id": "olnZjz0DW1k2",
        "colab_type": "text"
      },
      "cell_type": "markdown",
      "source": [
        "# Задание\n",
        "1. Выберите набор данных (датасет) для решения задачи классификации или регресии.\n",
        "1. В случае необходимости проведите удаление или заполнение пропусков и кодирование категориальных признаков.\n",
        "1. С использованием метода train_test_split разделите выборку на обучающую и тестовую.\n",
        "1. Обучите модель ближайших соседей для произвольно заданного гиперпараметра K. Оцените качество модели с помощью трех подходящих для задачи метрик.\n",
        "1. Постройте модель и оцените качество модели с использованием кросс-валидации. Проведите эксперименты с тремя различными стратегиями кросс-валидации.\n",
        "1. Произведите подбор гиперпараметра K с использованием GridSearchCV и кросс-валидации.\n",
        "1. Повторите пункт 4 для найденного оптимального значения гиперпараметра K. Сравните качество полученной модели с качеством модели, полученной в пункте 4.\n",
        "1. Постройте кривые обучения и валидации."
      ]
    },
    {
      "metadata": {
        "id": "WFrXIfNyW1k3",
        "colab_type": "text"
      },
      "cell_type": "markdown",
      "source": [
        "# Выполнение\n",
        "## Загрузка датасета\n",
        "Выбранный набор: [Classifying wine varieties](https://www.kaggle.com/brynja/wineuci)."
      ]
    },
    {
      "metadata": {
        "id": "HudNQTdKW1k7",
        "colab_type": "code",
        "colab": {
          "base_uri": "https://localhost:8080/",
          "height": 251
        },
        "outputId": "f1ca0f37-35bf-4949-ae17-85b65a3212f8"
      },
      "cell_type": "code",
      "source": [
        "# Загрузить набор данных\n",
        "data = pd.read_csv('Wine.csv', sep=\";\")\n",
        "#data = pd.read_csv('train.csv', sep=\",\")\n",
        "###data['class'].replace({'seniors':'1','fourth':'0'},inplace=True)\n",
        "#data['class'] = data['class'].astype('float64')\n",
        "# Распечать первые 5 строк фрейма данных\n",
        "data.head()"
      ],
      "execution_count": 101,
      "outputs": [
        {
          "output_type": "execute_result",
          "data": {
            "text/html": [
              "<div>\n",
              "<style scoped>\n",
              "    .dataframe tbody tr th:only-of-type {\n",
              "        vertical-align: middle;\n",
              "    }\n",
              "\n",
              "    .dataframe tbody tr th {\n",
              "        vertical-align: top;\n",
              "    }\n",
              "\n",
              "    .dataframe thead th {\n",
              "        text-align: right;\n",
              "    }\n",
              "</style>\n",
              "<table border=\"1\" class=\"dataframe\">\n",
              "  <thead>\n",
              "    <tr style=\"text-align: right;\">\n",
              "      <th></th>\n",
              "      <th>Class</th>\n",
              "      <th>Alcohol</th>\n",
              "      <th>Malic acid</th>\n",
              "      <th>Ash</th>\n",
              "      <th>Alcalinity of ash</th>\n",
              "      <th>Magnesium</th>\n",
              "      <th>Total phenols</th>\n",
              "      <th>Flavanoids</th>\n",
              "      <th>Nonflavanoid phenols</th>\n",
              "      <th>Proanthocyanins</th>\n",
              "      <th>Color intensity</th>\n",
              "      <th>Hue</th>\n",
              "      <th>OD280/OD315 of diluted wines</th>\n",
              "      <th>Proline</th>\n",
              "    </tr>\n",
              "  </thead>\n",
              "  <tbody>\n",
              "    <tr>\n",
              "      <th>0</th>\n",
              "      <td>1</td>\n",
              "      <td>14.23</td>\n",
              "      <td>1.71</td>\n",
              "      <td>2.43</td>\n",
              "      <td>15.6</td>\n",
              "      <td>127</td>\n",
              "      <td>2.80</td>\n",
              "      <td>3.06</td>\n",
              "      <td>0.28</td>\n",
              "      <td>2.29</td>\n",
              "      <td>5.64</td>\n",
              "      <td>1.04</td>\n",
              "      <td>3.92</td>\n",
              "      <td>1065</td>\n",
              "    </tr>\n",
              "    <tr>\n",
              "      <th>1</th>\n",
              "      <td>1</td>\n",
              "      <td>13.20</td>\n",
              "      <td>1.78</td>\n",
              "      <td>2.14</td>\n",
              "      <td>11.2</td>\n",
              "      <td>100</td>\n",
              "      <td>2.65</td>\n",
              "      <td>2.76</td>\n",
              "      <td>0.26</td>\n",
              "      <td>1.28</td>\n",
              "      <td>4.38</td>\n",
              "      <td>1.05</td>\n",
              "      <td>3.40</td>\n",
              "      <td>1050</td>\n",
              "    </tr>\n",
              "    <tr>\n",
              "      <th>2</th>\n",
              "      <td>1</td>\n",
              "      <td>13.16</td>\n",
              "      <td>2.36</td>\n",
              "      <td>2.67</td>\n",
              "      <td>18.6</td>\n",
              "      <td>101</td>\n",
              "      <td>2.80</td>\n",
              "      <td>3.24</td>\n",
              "      <td>0.30</td>\n",
              "      <td>2.81</td>\n",
              "      <td>5.68</td>\n",
              "      <td>1.03</td>\n",
              "      <td>3.17</td>\n",
              "      <td>1185</td>\n",
              "    </tr>\n",
              "    <tr>\n",
              "      <th>3</th>\n",
              "      <td>1</td>\n",
              "      <td>14.37</td>\n",
              "      <td>1.95</td>\n",
              "      <td>2.50</td>\n",
              "      <td>16.8</td>\n",
              "      <td>113</td>\n",
              "      <td>3.85</td>\n",
              "      <td>3.49</td>\n",
              "      <td>0.24</td>\n",
              "      <td>2.18</td>\n",
              "      <td>7.80</td>\n",
              "      <td>0.86</td>\n",
              "      <td>3.45</td>\n",
              "      <td>1480</td>\n",
              "    </tr>\n",
              "    <tr>\n",
              "      <th>4</th>\n",
              "      <td>1</td>\n",
              "      <td>13.24</td>\n",
              "      <td>2.59</td>\n",
              "      <td>2.87</td>\n",
              "      <td>21.0</td>\n",
              "      <td>118</td>\n",
              "      <td>2.80</td>\n",
              "      <td>2.69</td>\n",
              "      <td>0.39</td>\n",
              "      <td>1.82</td>\n",
              "      <td>4.32</td>\n",
              "      <td>1.04</td>\n",
              "      <td>2.93</td>\n",
              "      <td>735</td>\n",
              "    </tr>\n",
              "  </tbody>\n",
              "</table>\n",
              "</div>"
            ],
            "text/plain": [
              "   Class  Alcohol  Malic acid   Ash  Alcalinity of ash  Magnesium  \\\n",
              "0      1    14.23        1.71  2.43               15.6        127   \n",
              "1      1    13.20        1.78  2.14               11.2        100   \n",
              "2      1    13.16        2.36  2.67               18.6        101   \n",
              "3      1    14.37        1.95  2.50               16.8        113   \n",
              "4      1    13.24        2.59  2.87               21.0        118   \n",
              "\n",
              "   Total phenols  Flavanoids  Nonflavanoid phenols  Proanthocyanins  \\\n",
              "0           2.80        3.06                  0.28             2.29   \n",
              "1           2.65        2.76                  0.26             1.28   \n",
              "2           2.80        3.24                  0.30             2.81   \n",
              "3           3.85        3.49                  0.24             2.18   \n",
              "4           2.80        2.69                  0.39             1.82   \n",
              "\n",
              "   Color intensity   Hue  OD280/OD315 of diluted wines  Proline  \n",
              "0             5.64  1.04                          3.92     1065  \n",
              "1             4.38  1.05                          3.40     1050  \n",
              "2             5.68  1.03                          3.17     1185  \n",
              "3             7.80  0.86                          3.45     1480  \n",
              "4             4.32  1.04                          2.93      735  "
            ]
          },
          "metadata": {
            "tags": []
          },
          "execution_count": 101
        }
      ]
    },
    {
      "metadata": {
        "id": "PuF8UASeW1k4",
        "colab_type": "code",
        "colab": {}
      },
      "cell_type": "code",
      "source": [
        "import numpy as np\n",
        "import pandas as pd\n",
        "import matplotlib.pyplot as plt\n",
        "from sklearn.model_selection import GridSearchCV\n",
        "from sklearn.model_selection import learning_curve, validation_curve\n",
        "from sklearn.model_selection import KFold, RepeatedKFold, LeaveOneOut, LeavePOut, ShuffleSplit, StratifiedKFold\n",
        "from sklearn.model_selection import cross_val_score, cross_validate\n",
        "from sklearn.metrics import roc_curve,confusion_matrix, roc_auc_score, accuracy_score, balanced_accuracy_score\n",
        "\n",
        "from sklearn.neighbors import KNeighborsClassifier\n",
        "from sklearn.model_selection import train_test_split\n",
        "\n",
        "plt.style.use('ggplot')\n",
        "\n",
        "import warnings\n",
        "warnings.filterwarnings('ignore')"
      ],
      "execution_count": 0,
      "outputs": []
    },
    {
      "metadata": {
        "id": "syM88L27W1lB",
        "colab_type": "code",
        "colab": {
          "base_uri": "https://localhost:8080/",
          "height": 266
        },
        "outputId": "bee6c601-3085-46f8-faa0-a1827d3052f5"
      },
      "cell_type": "code",
      "source": [
        "# Список колонок с типами данных\n",
        "data.dtypes"
      ],
      "execution_count": 103,
      "outputs": [
        {
          "output_type": "execute_result",
          "data": {
            "text/plain": [
              "Class                             int64\n",
              "Alcohol                         float64\n",
              "Malic acid                      float64\n",
              "Ash                             float64\n",
              "Alcalinity of ash               float64\n",
              "Magnesium                         int64\n",
              "Total phenols                   float64\n",
              "Flavanoids                      float64\n",
              "Nonflavanoid phenols            float64\n",
              "Proanthocyanins                 float64\n",
              "Color intensity                 float64\n",
              "Hue                             float64\n",
              "OD280/OD315 of diluted wines    float64\n",
              "Proline                           int64\n",
              "dtype: object"
            ]
          },
          "metadata": {
            "tags": []
          },
          "execution_count": 103
        }
      ]
    },
    {
      "metadata": {
        "id": "PRxAT01BW1lG",
        "colab_type": "code",
        "colab": {
          "base_uri": "https://localhost:8080/",
          "height": 250
        },
        "outputId": "09db6250-f1e8-44a2-c241-d9b3c742a868"
      },
      "cell_type": "code",
      "source": [
        "# Проверим на наличие пустых значений\n",
        "\n",
        "for col in data.columns:\n",
        "    print('{} - {}'.format(col, data[data[col].isnull()].shape[0]))"
      ],
      "execution_count": 104,
      "outputs": [
        {
          "output_type": "stream",
          "text": [
            "Class - 0\n",
            "Alcohol - 0\n",
            "Malic acid - 0\n",
            "Ash - 0\n",
            "Alcalinity of ash - 0\n",
            "Magnesium - 0\n",
            "Total phenols - 0\n",
            "Flavanoids - 0\n",
            "Nonflavanoid phenols - 0\n",
            "Proanthocyanins - 0\n",
            "Color intensity - 0\n",
            "Hue - 0\n",
            "OD280/OD315 of diluted wines - 0\n",
            "Proline - 0\n"
          ],
          "name": "stdout"
        }
      ]
    },
    {
      "metadata": {
        "id": "GfBraiKRW1lJ",
        "colab_type": "code",
        "colab": {
          "base_uri": "https://localhost:8080/",
          "height": 33
        },
        "outputId": "97553660-5f93-49aa-a06b-d0d234281b2f"
      },
      "cell_type": "code",
      "source": [
        "data.shape"
      ],
      "execution_count": 105,
      "outputs": [
        {
          "output_type": "execute_result",
          "data": {
            "text/plain": [
              "(178, 14)"
            ]
          },
          "metadata": {
            "tags": []
          },
          "execution_count": 105
        }
      ]
    },
    {
      "metadata": {
        "id": "HuSMFj0rW1lM",
        "colab_type": "text"
      },
      "cell_type": "markdown",
      "source": [
        "## Разделите выборки на обучающую и тестовую"
      ]
    },
    {
      "metadata": {
        "id": "lrdVh8MfW1lN",
        "colab_type": "code",
        "colab": {
          "base_uri": "https://localhost:8080/",
          "height": 50
        },
        "outputId": "4aed7c33-5001-4383-ca5c-bc74650cca46"
      },
      "cell_type": "code",
      "source": [
        "X = data.drop('Class',axis=1).values\n",
        "y = data['Class'].values\n",
        "#X = data[['shoe size','height']].values\n",
        "#y = date['class'].values\n",
        "X_train,X_test,y_train,y_test = train_test_split(X,y,test_size=0.3,random_state=42, stratify=y)\n",
        "print('X_train: {}  y_train: {}'.format(X_train.shape, y_train.shape))\n",
        "print('X_test: {}  y_test: {}'.format(X_test.shape, y_test.shape))"
      ],
      "execution_count": 106,
      "outputs": [
        {
          "output_type": "stream",
          "text": [
            "X_train: (124, 13)  y_train: (124,)\n",
            "X_test: (54, 13)  y_test: (54,)\n"
          ],
          "name": "stdout"
        }
      ]
    },
    {
      "metadata": {
        "id": "RxWZWhbhW1lR",
        "colab_type": "text"
      },
      "cell_type": "markdown",
      "source": [
        "## Обучение модели ближайших соседей\n",
        "Обучите модель ближайших соседей для произвольно заданного гиперпараметра K. Оцените качество модели с помощью трех подходящих для задачи метрик."
      ]
    },
    {
      "metadata": {
        "id": "b01eQuH7W1lS",
        "colab_type": "code",
        "colab": {
          "base_uri": "https://localhost:8080/",
          "height": 33
        },
        "outputId": "bc20fed5-b4ee-4b19-b022-405b3da1abe6"
      },
      "cell_type": "code",
      "source": [
        "# Setup arrays to store training and test accuracies\n",
        "neighbors = np.arange(1,14)\n",
        "len(neighbors)"
      ],
      "execution_count": 107,
      "outputs": [
        {
          "output_type": "execute_result",
          "data": {
            "text/plain": [
              "13"
            ]
          },
          "metadata": {
            "tags": []
          },
          "execution_count": 107
        }
      ]
    },
    {
      "metadata": {
        "id": "RV313W48W1lW",
        "colab_type": "text"
      },
      "cell_type": "markdown",
      "source": [
        "### Обучение при различном количестве соседей"
      ]
    },
    {
      "metadata": {
        "id": "74k3SbOlW1lX",
        "colab_type": "code",
        "colab": {}
      },
      "cell_type": "code",
      "source": [
        "# Вернуть новый массив заданной формы и типа без инициализации записей.\n",
        "train_accuracy =np.empty(len(neighbors))\n",
        "test_accuracy = np.empty(len(neighbors))\n",
        "\n",
        "for i,k in enumerate(neighbors):\n",
        "    # Настройка классификатора Knn с K соседями\n",
        "    knn = KNeighborsClassifier(n_neighbors=k)\n",
        "    \n",
        "    # Обучить модель\n",
        "    knn.fit(X_train, y_train)\n",
        "    \n",
        "    # Вычислить точность на тренировочном наборе\n",
        "    train_accuracy[i] = knn.score(X_train, y_train)\n",
        "    \n",
        "    # Вычислить точность на тестовом наборе\n",
        "    test_accuracy[i] = knn.score(X_test, y_test)"
      ],
      "execution_count": 0,
      "outputs": []
    },
    {
      "metadata": {
        "id": "yuUh2NLWW1la",
        "colab_type": "code",
        "colab": {
          "base_uri": "https://localhost:8080/",
          "height": 298
        },
        "outputId": "3e9c1937-da6e-46cf-8e7d-8b54a3d061be"
      },
      "cell_type": "code",
      "source": [
        "# Построить набор\n",
        "plt.title('k-NN Varying number of neighbors')\n",
        "plt.plot(neighbors, test_accuracy, label='Testing Accuracy')\n",
        "plt.plot(neighbors, train_accuracy, label='Training accuracy')\n",
        "plt.legend()\n",
        "plt.xlabel('Number of neighbors')\n",
        "plt.ylabel('Accuracy')\n",
        "plt.show()"
      ],
      "execution_count": 109,
      "outputs": [
        {
          "output_type": "display_data",
          "data": {
            "image/png": "[encoded data removed]",
            "text/plain": [
              "<Figure size 432x288 with 1 Axes>"
            ]
          },
          "metadata": {
            "tags": []
          }
        }
      ]
    },
    {
      "metadata": {
        "id": "AE4SeWeyW1le",
        "colab_type": "text"
      },
      "cell_type": "markdown",
      "source": [
        "### Изучение работы KNeighborsClassifier"
      ]
    },
    {
      "metadata": {
        "id": "ci7SmP8iW1lf",
        "colab_type": "code",
        "colab": {}
      },
      "cell_type": "code",
      "source": [
        "# Setup a knn classifier with k neighbors\n",
        "knn = KNeighborsClassifier(n_neighbors=10)"
      ],
      "execution_count": 0,
      "outputs": []
    },
    {
      "metadata": {
        "id": "g3yDcb_lW1lj",
        "colab_type": "code",
        "colab": {
          "base_uri": "https://localhost:8080/",
          "height": 66
        },
        "outputId": "b64a62e8-d78e-4210-fb8a-e15bdb34ec55"
      },
      "cell_type": "code",
      "source": [
        "#Fit the model\n",
        "knn.fit(X_train,y_train)"
      ],
      "execution_count": 111,
      "outputs": [
        {
          "output_type": "execute_result",
          "data": {
            "text/plain": [
              "KNeighborsClassifier(algorithm='auto', leaf_size=30, metric='minkowski',\n",
              "           metric_params=None, n_jobs=None, n_neighbors=10, p=2,\n",
              "           weights='uniform')"
            ]
          },
          "metadata": {
            "tags": []
          },
          "execution_count": 111
        }
      ]
    },
    {
      "metadata": {
        "id": "loyUITjHW1lp",
        "colab_type": "code",
        "colab": {
          "base_uri": "https://localhost:8080/",
          "height": 33
        },
        "outputId": "a5df4c27-e59c-4c4f-b9ff-371b5d3b976c"
      },
      "cell_type": "code",
      "source": [
        "#Get accuracy. Note: In case of classification algorithms score method represents accuracy.\n",
        "knn.score(X_test,y_test)"
      ],
      "execution_count": 112,
      "outputs": [
        {
          "output_type": "execute_result",
          "data": {
            "text/plain": [
              "0.7407407407407407"
            ]
          },
          "metadata": {
            "tags": []
          },
          "execution_count": 112
        }
      ]
    },
    {
      "metadata": {
        "id": "2eXfRbiFW1lu",
        "colab_type": "code",
        "colab": {
          "base_uri": "https://localhost:8080/",
          "height": 183
        },
        "outputId": "3de5c7bd-9e75-4740-b3ae-904292c5800f"
      },
      "cell_type": "code",
      "source": [
        "#import classification_report\n",
        "from sklearn.metrics import classification_report\n",
        "\n",
        "y_pred = knn.predict(X_test)\n",
        "print(classification_report(y_test,y_pred))"
      ],
      "execution_count": 113,
      "outputs": [
        {
          "output_type": "stream",
          "text": [
            "              precision    recall  f1-score   support\n",
            "\n",
            "           1       0.88      0.83      0.86        18\n",
            "           2       0.88      0.67      0.76        21\n",
            "           3       0.52      0.73      0.61        15\n",
            "\n",
            "   micro avg       0.74      0.74      0.74        54\n",
            "   macro avg       0.76      0.74      0.74        54\n",
            "weighted avg       0.78      0.74      0.75        54\n",
            "\n"
          ],
          "name": "stdout"
        }
      ]
    },
    {
      "metadata": {
        "id": "8_YYJVz8W1l1",
        "colab_type": "text"
      },
      "cell_type": "markdown",
      "source": [
        "### Точность"
      ]
    },
    {
      "metadata": {
        "id": "aVTyZ25jW1l2",
        "colab_type": "code",
        "colab": {
          "base_uri": "https://localhost:8080/",
          "height": 33
        },
        "outputId": "3ba27b86-9bee-4af1-91a4-69f18eb62863"
      },
      "cell_type": "code",
      "source": [
        "cl1_1 = KNeighborsClassifier(n_neighbors=7)\n",
        "cl1_1.fit(X_train, y_train)\n",
        "target1_1 = cl1_1.predict(X_test)\n",
        "accuracy_score(y_test, target1_1)"
      ],
      "execution_count": 114,
      "outputs": [
        {
          "output_type": "execute_result",
          "data": {
            "text/plain": [
              "0.7407407407407407"
            ]
          },
          "metadata": {
            "tags": []
          },
          "execution_count": 114
        }
      ]
    },
    {
      "metadata": {
        "id": "6QdkjJBkW1l8",
        "colab_type": "text"
      },
      "cell_type": "markdown",
      "source": [
        "### ROC-кривая"
      ]
    },
    {
      "metadata": {
        "id": "R5UabYb5W1l8",
        "colab_type": "code",
        "colab": {
          "base_uri": "https://localhost:8080/",
          "height": 298
        },
        "outputId": "b10b7f70-b27a-441c-eac2-687e8cc1ce69"
      },
      "cell_type": "code",
      "source": [
        "y_pred_proba = knn.predict_proba(X_test)[:,1]\n",
        "fpr, tpr, thresholds = roc_curve(y_test, y_pred_proba, pos_label=2)\n",
        "\n",
        "plt.plot([0,1],[0,1],'k--')\n",
        "plt.plot(fpr,tpr, label='Knn')\n",
        "plt.xlabel('fpr')\n",
        "plt.ylabel('tpr')\n",
        "plt.title('Knn(n_neighbors=7) ROC curve')\n",
        "plt.show()"
      ],
      "execution_count": 115,
      "outputs": [
        {
          "output_type": "display_data",
          "data": {
            "image/png": "[encoded data removed]",
            "text/plain": [
              "<Figure size 432x288 with 1 Axes>"
            ]
          },
          "metadata": {
            "tags": []
          }
        }
      ]
    },
    {
      "metadata": {
        "id": "YHufSiW6W1mB",
        "colab_type": "text"
      },
      "cell_type": "markdown",
      "source": [
        "## Кросс-валидация"
      ]
    },
    {
      "metadata": {
        "id": "89V7APiHW1mC",
        "colab_type": "code",
        "colab": {
          "base_uri": "https://localhost:8080/",
          "height": 150
        },
        "outputId": "f93f1099-591d-47a8-cd0b-2af593241f6e"
      },
      "cell_type": "code",
      "source": [
        "param_grid = {'n_neighbors':np.arange(1,14)}\n",
        "knn = KNeighborsClassifier()\n",
        "knn_cv= GridSearchCV(knn,param_grid,cv=5)\n",
        "knn_cv.fit(X_train,y_train)"
      ],
      "execution_count": 116,
      "outputs": [
        {
          "output_type": "execute_result",
          "data": {
            "text/plain": [
              "GridSearchCV(cv=5, error_score='raise-deprecating',\n",
              "       estimator=KNeighborsClassifier(algorithm='auto', leaf_size=30, metric='minkowski',\n",
              "           metric_params=None, n_jobs=None, n_neighbors=5, p=2,\n",
              "           weights='uniform'),\n",
              "       fit_params=None, iid='warn', n_jobs=None,\n",
              "       param_grid={'n_neighbors': array([ 1,  2,  3,  4,  5,  6,  7,  8,  9, 10, 11, 12, 13])},\n",
              "       pre_dispatch='2*n_jobs', refit=True, return_train_score='warn',\n",
              "       scoring=None, verbose=0)"
            ]
          },
          "metadata": {
            "tags": []
          },
          "execution_count": 116
        }
      ]
    },
    {
      "metadata": {
        "id": "H8tenDHNW1mE",
        "colab_type": "code",
        "colab": {
          "base_uri": "https://localhost:8080/",
          "height": 33
        },
        "outputId": "6e3f0290-2072-43cf-ae42-0a610d922611"
      },
      "cell_type": "code",
      "source": [
        "knn_cv.best_score_"
      ],
      "execution_count": 117,
      "outputs": [
        {
          "output_type": "execute_result",
          "data": {
            "text/plain": [
              "0.7419354838709677"
            ]
          },
          "metadata": {
            "tags": []
          },
          "execution_count": 117
        }
      ]
    },
    {
      "metadata": {
        "id": "j8OfyuQPW1mK",
        "colab_type": "code",
        "colab": {
          "base_uri": "https://localhost:8080/",
          "height": 33
        },
        "outputId": "d741ec8f-62b7-4c17-c457-a872e9d2c451"
      },
      "cell_type": "code",
      "source": [
        "knn_cv.best_params_"
      ],
      "execution_count": 118,
      "outputs": [
        {
          "output_type": "execute_result",
          "data": {
            "text/plain": [
              "{'n_neighbors': 4}"
            ]
          },
          "metadata": {
            "tags": []
          },
          "execution_count": 118
        }
      ]
    },
    {
      "metadata": {
        "id": "1tCD74lxW1mP",
        "colab_type": "text"
      },
      "cell_type": "markdown",
      "source": [
        "### K-fold\n",
        "Данная стратегия работает в соответствии с определением кросс-валидации.\n",
        "\n",
        "Каждой стратегии в scikit-learn ставится в соответствии специальный класс-итератор, который может быть указан в качестве параметра cv функций cross_val_score и cross_validate."
      ]
    },
    {
      "metadata": {
        "id": "am-LLwtXW1mQ",
        "colab_type": "code",
        "colab": {
          "base_uri": "https://localhost:8080/",
          "height": 33
        },
        "outputId": "4dab2339-b2cf-4274-c756-0143f167959d"
      },
      "cell_type": "code",
      "source": [
        "scores = cross_val_score(KNeighborsClassifier(n_neighbors=4), \n",
        "                         X, y, \n",
        "                         cv=KFold(n_splits=5))\n",
        "\n",
        "# Значение метрики accuracy для 5 фолдов\n",
        "scores"
      ],
      "execution_count": 119,
      "outputs": [
        {
          "output_type": "execute_result",
          "data": {
            "text/plain": [
              "array([0.86111111, 0.77777778, 0.61111111, 0.71428571, 0.        ])"
            ]
          },
          "metadata": {
            "tags": []
          },
          "execution_count": 119
        }
      ]
    },
    {
      "metadata": {
        "id": "kfyFe48LW1mU",
        "colab_type": "code",
        "colab": {
          "base_uri": "https://localhost:8080/",
          "height": 33
        },
        "outputId": "938d4634-2454-4bc9-9da6-a04ea810fcd6"
      },
      "cell_type": "code",
      "source": [
        "# Усредненное значение метрики accuracy для 5 фолдов\n",
        "np.mean(scores)"
      ],
      "execution_count": 120,
      "outputs": [
        {
          "output_type": "execute_result",
          "data": {
            "text/plain": [
              "0.5928571428571429"
            ]
          },
          "metadata": {
            "tags": []
          },
          "execution_count": 120
        }
      ]
    },
    {
      "metadata": {
        "id": "lxKNoLC3W1mZ",
        "colab_type": "code",
        "colab": {
          "base_uri": "https://localhost:8080/",
          "height": 150
        },
        "outputId": "77e2aa52-4ed9-45de-e1b1-58f280e84d2a"
      },
      "cell_type": "code",
      "source": [
        "scoring = {'precision': 'precision_weighted', \n",
        "           'recall': 'recall_weighted',\n",
        "           'f1': 'f1_weighted'}\n",
        "\n",
        "scores = cross_validate(KNeighborsClassifier(n_neighbors=4), \n",
        "                        X, y, scoring=scoring, \n",
        "                        cv=KFold(n_splits=5), return_train_score=True)\n",
        "scores"
      ],
      "execution_count": 121,
      "outputs": [
        {
          "output_type": "execute_result",
          "data": {
            "text/plain": [
              "{'fit_time': array([0.001158  , 0.00042629, 0.00045323, 0.00041962, 0.00039601]),\n",
              " 'score_time': array([0.01065612, 0.00583816, 0.0070045 , 0.00574684, 0.0059557 ]),\n",
              " 'test_f1': array([0.92537313, 0.86944752, 0.75862069, 0.71080409, 0.        ]),\n",
              " 'test_precision': array([1.        , 1.        , 1.        , 0.72533333, 0.        ]),\n",
              " 'test_recall': array([0.86111111, 0.77777778, 0.61111111, 0.71428571, 0.        ]),\n",
              " 'train_f1': array([0.82296931, 0.80124489, 0.84424307, 0.7894962 , 0.87128745]),\n",
              " 'train_precision': array([0.82446207, 0.80090285, 0.84426486, 0.79604422, 0.87889383]),\n",
              " 'train_recall': array([0.82394366, 0.8028169 , 0.84507042, 0.7972028 , 0.88111888])}"
            ]
          },
          "metadata": {
            "tags": []
          },
          "execution_count": 121
        }
      ]
    },
    {
      "metadata": {
        "id": "v8WhUdthW1me",
        "colab_type": "text"
      },
      "cell_type": "markdown",
      "source": [
        "### Leave One Out (LOO)\n",
        "В тестовую выборку помещается единственный элемент (One Out). Количество фолдов в этом случае определяется автоматически и равняется количеству элементов.\n",
        "\n",
        "Данный метод более ресурсоемкий чем KFold.\n",
        "\n",
        "Существует эмпирическое правило, что вместо Leave One Out лучше использовать KFold на 5 или 10 фолдов."
      ]
    },
    {
      "metadata": {
        "id": "DfPy6FPbW1me",
        "colab_type": "code",
        "colab": {}
      },
      "cell_type": "code",
      "source": [
        "loo = LeaveOneOut()\n",
        "loo.get_n_splits(X)\n",
        "\n",
        "for train_index, test_index in loo.split(X):\n",
        "   y_train, y_test = y[train_index], y[test_index]"
      ],
      "execution_count": 0,
      "outputs": []
    },
    {
      "metadata": {
        "id": "Gn8bCO4nW1mg",
        "colab_type": "text"
      },
      "cell_type": "markdown",
      "source": [
        "### Repeated K-Fold"
      ]
    },
    {
      "metadata": {
        "id": "XkM817s4W1mh",
        "colab_type": "code",
        "colab": {
          "base_uri": "https://localhost:8080/",
          "height": 50
        },
        "outputId": "5a89a33f-52b4-4521-97f6-ff16097b2e33"
      },
      "cell_type": "code",
      "source": [
        "scores2 = cross_val_score(KNeighborsClassifier(n_neighbors=4), \n",
        "                         X, y, \n",
        "                         cv=RepeatedKFold(n_splits=5, n_repeats=2))\n",
        "scores2"
      ],
      "execution_count": 123,
      "outputs": [
        {
          "output_type": "execute_result",
          "data": {
            "text/plain": [
              "array([0.72222222, 0.66666667, 0.75      , 0.65714286, 0.62857143,\n",
              "       0.58333333, 0.55555556, 0.77777778, 0.71428571, 0.71428571])"
            ]
          },
          "metadata": {
            "tags": []
          },
          "execution_count": 123
        }
      ]
    },
    {
      "metadata": {
        "id": "hG4iFd0WW1mj",
        "colab_type": "text"
      },
      "cell_type": "markdown",
      "source": [
        "## Обучение с оптимальным K"
      ]
    },
    {
      "metadata": {
        "id": "0ELWcpmfW1mk",
        "colab_type": "code",
        "colab": {
          "base_uri": "https://localhost:8080/",
          "height": 33
        },
        "outputId": "06607f68-af02-4600-a77f-4f68146d8044"
      },
      "cell_type": "code",
      "source": [
        "X_train,X_test,y_train,y_test = train_test_split(X,y,test_size=0.3,random_state=42, stratify=y)\n",
        "\n",
        "knn = KNeighborsClassifier(n_neighbors=10)\n",
        "knn.fit(X_train,y_train)\n",
        "knn.score(X_test,y_test)"
      ],
      "execution_count": 124,
      "outputs": [
        {
          "output_type": "execute_result",
          "data": {
            "text/plain": [
              "0.7407407407407407"
            ]
          },
          "metadata": {
            "tags": []
          },
          "execution_count": 124
        }
      ]
    },
    {
      "metadata": {
        "id": "qdjTH4P3W1mn",
        "colab_type": "text"
      },
      "cell_type": "markdown",
      "source": [
        "## Построение кривых обучения"
      ]
    },
    {
      "metadata": {
        "id": "Og0VyDSEW1mn",
        "colab_type": "code",
        "colab": {}
      },
      "cell_type": "code",
      "source": [
        "def plot_learning_curve(estimator, title, X, y, ylim=None, cv=None,\n",
        "                        n_jobs=None, train_sizes=np.linspace(.1, 1.0, 5)):\n",
        "\n",
        "    plt.figure()\n",
        "    plt.title(title)\n",
        "    if ylim is not None:\n",
        "        plt.ylim(*ylim)\n",
        "    plt.xlabel(\"Training examples\")\n",
        "    plt.ylabel(\"Score\")\n",
        "    train_sizes, train_scores, test_scores = learning_curve(\n",
        "        estimator, X, y, cv=cv, n_jobs=n_jobs, train_sizes=train_sizes)\n",
        "    train_scores_mean = np.mean(train_scores, axis=1)\n",
        "    train_scores_std = np.std(train_scores, axis=1)\n",
        "    test_scores_mean = np.mean(test_scores, axis=1)\n",
        "    test_scores_std = np.std(test_scores, axis=1)\n",
        "    plt.grid()\n",
        "\n",
        "    plt.fill_between(train_sizes, train_scores_mean - train_scores_std,\n",
        "                     train_scores_mean + train_scores_std, alpha=0.1,\n",
        "                     color=\"r\")\n",
        "    plt.fill_between(train_sizes, test_scores_mean - test_scores_std,\n",
        "                     test_scores_mean + test_scores_std, alpha=0.1, color=\"g\")\n",
        "    plt.plot(train_sizes, train_scores_mean, 'o-', color=\"r\",\n",
        "             label=\"Training score\")\n",
        "    plt.plot(train_sizes, test_scores_mean, 'o-', color=\"g\",\n",
        "             label=\"Cross-validation score\")\n",
        "\n",
        "    plt.legend(loc=\"best\")\n",
        "    return plt"
      ],
      "execution_count": 0,
      "outputs": []
    },
    {
      "metadata": {
        "id": "hbQdtqWkW1mq",
        "colab_type": "code",
        "colab": {
          "base_uri": "https://localhost:8080/",
          "height": 315
        },
        "outputId": "194c43d1-b840-45dd-8af0-b20c5371b811"
      },
      "cell_type": "code",
      "source": [
        "plot_learning_curve(KNeighborsClassifier(n_neighbors=4), 'n_neighbors=4', \n",
        "                    X_train, y_train, cv=5)"
      ],
      "execution_count": 126,
      "outputs": [
        {
          "output_type": "execute_result",
          "data": {
            "text/plain": [
              "<module 'matplotlib.pyplot' from '/usr/local/lib/python3.6/dist-packages/matplotlib/pyplot.py'>"
            ]
          },
          "metadata": {
            "tags": []
          },
          "execution_count": 126
        },
        {
          "output_type": "display_data",
          "data": {
            "image/png": "[encoded data removed]",
            "text/plain": [
              "<Figure size 432x288 with 1 Axes>"
            ]
          },
          "metadata": {
            "tags": []
          }
        }
      ]
    },
    {
      "metadata": {
        "id": "FMdPwdT7W1mu",
        "colab_type": "text"
      },
      "cell_type": "markdown",
      "source": [
        "## Построение кривой валидации"
      ]
    },
    {
      "metadata": {
        "id": "ztLtE9x7W1mv",
        "colab_type": "code",
        "colab": {}
      },
      "cell_type": "code",
      "source": [
        "def plot_validation_curve(estimator, title, X, y, \n",
        "                          param_name, param_range, cv, \n",
        "                          scoring=\"accuracy\"):\n",
        "                                                   \n",
        "    train_scores, test_scores = validation_curve(\n",
        "        estimator, X, y, param_name=param_name, param_range=param_range,\n",
        "        cv=cv, scoring=scoring, n_jobs=1)\n",
        "    train_scores_mean = np.mean(train_scores, axis=1)\n",
        "    train_scores_std = np.std(train_scores, axis=1)\n",
        "    test_scores_mean = np.mean(test_scores, axis=1)\n",
        "    test_scores_std = np.std(test_scores, axis=1)\n",
        "\n",
        "    plt.title(title)\n",
        "    plt.xlabel(param_name)\n",
        "    plt.ylabel(\"Score\")\n",
        "    plt.ylim(0.0, 1.1)\n",
        "    lw = 2\n",
        "    plt.plot(param_range, train_scores_mean, label=\"Training score\",\n",
        "                 color=\"darkorange\", lw=lw)\n",
        "    plt.fill_between(param_range, train_scores_mean - train_scores_std,\n",
        "                     train_scores_mean + train_scores_std, alpha=0.2,\n",
        "                     color=\"darkorange\", lw=lw)\n",
        "    plt.plot(param_range, test_scores_mean, label=\"Cross-validation score\",\n",
        "                 color=\"navy\", lw=lw)\n",
        "    plt.fill_between(param_range, test_scores_mean - test_scores_std,\n",
        "                     test_scores_mean + test_scores_std, alpha=0.2,\n",
        "                     color=\"navy\", lw=lw)\n",
        "    plt.legend(loc=\"best\")\n",
        "    return plt"
      ],
      "execution_count": 0,
      "outputs": []
    },
    {
      "metadata": {
        "id": "ogYDq8-SW1mx",
        "colab_type": "code",
        "colab": {
          "base_uri": "https://localhost:8080/",
          "height": 315
        },
        "outputId": "9ae2bf64-715e-4531-d0df-e80fe45123a5"
      },
      "cell_type": "code",
      "source": [
        "n_range = np.array(range(5,55,5))\n",
        "plot_validation_curve(KNeighborsClassifier(n_neighbors=4), 'knn', \n",
        "                      X_train, y_train, \n",
        "                      param_name='n_neighbors', param_range=n_range, \n",
        "                      cv=5, scoring=\"accuracy\")"
      ],
      "execution_count": 128,
      "outputs": [
        {
          "output_type": "execute_result",
          "data": {
            "text/plain": [
              "<module 'matplotlib.pyplot' from '/usr/local/lib/python3.6/dist-packages/matplotlib/pyplot.py'>"
            ]
          },
          "metadata": {
            "tags": []
          },
          "execution_count": 128
        },
        {
          "output_type": "display_data",
          "data": {
            "image/png": "[encoded data removed]",
            "text/plain": [
              "<Figure size 432x288 with 1 Axes>"
            ]
          },
          "metadata": {
            "tags": []
          }
        }
      ]
    }
  ]
}
