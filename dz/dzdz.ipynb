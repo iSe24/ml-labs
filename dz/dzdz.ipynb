{
  "nbformat": 4,
  "nbformat_minor": 0,
  "metadata": {
    "colab": {
      "name": "dzdz.ipynb",
      "version": "0.3.2",
      "provenance": [],
      "collapsed_sections": [],
      "toc_visible": true
    },
    "kernelspec": {
      "name": "python3",
      "display_name": "Python 3"
    },
    "accelerator": "GPU"
  },
  "cells": [
    {
      "cell_type": "markdown",
      "metadata": {
        "id": "LjvLZrVqHEus",
        "colab_type": "text"
      },
      "source": [
        "<div><h1>Домашнее задание\n",
        "по дисциплине «Методы машинного обучения»</h1>\n",
        "<div><h2>Домашнее задание по дисциплине направлено на решение комплексной задачи машинного обучения. </h2>\n",
        "  <div>Домашнее задание включает выполнение следующих шагов:\n",
        "\n",
        "<div>1. Поиск и выбор набора данных для построения моделей машинного обучения. На основе выбранного набора данных студент должен построить модели машинного обучения для решения или задачи классификации, или задачи регрессии.\n",
        "<div>2. Проведение разведочного анализа данных. Построение графиков, необходимых для понимания структуры данных. Анализ и заполнение пропусков в данных.\n",
        "<div>3. Выбор признаков, подходящих для построения моделей. Кодирование категориальных признаков Масштабирование данных. Формирование вспомогательных признаков, улучшающих качество моделей.\n",
        "<div>4. Проведение корреляционного анализа данных. Формирование промежуточных выводов о возможности построения моделей машинного обучения. В зависимости от набора данных, порядок выполнения пунктов 2, 3, 4 может быть изменен.\n",
        "<div>5. Выбор метрик для последующей оценки качества моделей. Необходимо выбрать не менее двух метрик и обосновать выбор.\n",
        "<div>6. Выбор наиболее подходящих моделей для решения задачи классификации или регрессии. Необходимо использовать не менее трех моделей, хотя бы одна из которых должна быть ансамблевой.\n",
        "<div>7.Формирование обучающей и тестовой выборок на основе исходного набора данных.\n",
        " <div>8. Построение базового решения (baseline) для выбранных моделей без подбора гиперпараметров. Производится обучение моделей на основе обучающей выборки и оценка качества моделей на основе тестовой выборки.\n",
        "<div>9. Подбор гиперпараметров для выбранных моделей. Рекомендуется подбирать не более 1-2 гиперпараметров. Рекомендуется использовать методы кросс-валидации. В зависимости от используемой библиотеки можно применять функцию GridSearchCV, использовать перебор параметров в цикле, или использовать другие методы.\n",
        "<div>10. Повторение пункта 8 для найденных оптимальных значений гиперпараметров. Сравнение качества полученных моделей с качеством baseline-моделей.\n",
        "<div>11. Формирование выводов о качестве построенных моделей на основе выбранных метрик."
      ]
    },
    {
      "cell_type": "code",
      "metadata": {
        "id": "zOe5C8QeFQwY",
        "colab_type": "code",
        "colab": {}
      },
      "source": [
        "import numpy as np\n",
        "import pandas as pd\n",
        "import matplotlib.pyplot as plt\n",
        "import seaborn as sns\n",
        "from sklearn.linear_model import LogisticRegression\n",
        "from sklearn.model_selection import train_test_split\n",
        "from sklearn.model_selection import GridSearchCV\n",
        "%matplotlib inline"
      ],
      "execution_count": 0,
      "outputs": []
    },
    {
      "cell_type": "markdown",
      "metadata": {
        "id": "jldyGS4NGHTv",
        "colab_type": "text"
      },
      "source": [
        "### Загрузка данных"
      ]
    },
    {
      "cell_type": "code",
      "metadata": {
        "id": "kilC7W2TIh9L",
        "colab_type": "code",
        "outputId": "3ad60984-7bb6-4873-cbe7-c7a78dd22e6c",
        "colab": {
          "base_uri": "https://localhost:8080/",
          "height": 204
        }
      },
      "source": [
        "df  = pd.read_csv(\"heart.csv\", sep=\",\")\n",
        "df .head()"
      ],
      "execution_count": 0,
      "outputs": [
        {
          "output_type": "execute_result",
          "data": {
            "text/html": [
              "<div>\n",
              "<style scoped>\n",
              "    .dataframe tbody tr th:only-of-type {\n",
              "        vertical-align: middle;\n",
              "    }\n",
              "\n",
              "    .dataframe tbody tr th {\n",
              "        vertical-align: top;\n",
              "    }\n",
              "\n",
              "    .dataframe thead th {\n",
              "        text-align: right;\n",
              "    }\n",
              "</style>\n",
              "<table border=\"1\" class=\"dataframe\">\n",
              "  <thead>\n",
              "    <tr style=\"text-align: right;\">\n",
              "      <th></th>\n",
              "      <th>age</th>\n",
              "      <th>sex</th>\n",
              "      <th>cp</th>\n",
              "      <th>trestbps</th>\n",
              "      <th>chol</th>\n",
              "      <th>fbs</th>\n",
              "      <th>restecg</th>\n",
              "      <th>thalach</th>\n",
              "      <th>exang</th>\n",
              "      <th>oldpeak</th>\n",
              "      <th>slope</th>\n",
              "      <th>ca</th>\n",
              "      <th>thal</th>\n",
              "      <th>target</th>\n",
              "    </tr>\n",
              "  </thead>\n",
              "  <tbody>\n",
              "    <tr>\n",
              "      <th>0</th>\n",
              "      <td>63</td>\n",
              "      <td>1</td>\n",
              "      <td>3</td>\n",
              "      <td>145</td>\n",
              "      <td>233</td>\n",
              "      <td>1</td>\n",
              "      <td>0</td>\n",
              "      <td>150</td>\n",
              "      <td>0</td>\n",
              "      <td>2.3</td>\n",
              "      <td>0</td>\n",
              "      <td>0</td>\n",
              "      <td>1</td>\n",
              "      <td>1</td>\n",
              "    </tr>\n",
              "    <tr>\n",
              "      <th>1</th>\n",
              "      <td>37</td>\n",
              "      <td>1</td>\n",
              "      <td>2</td>\n",
              "      <td>130</td>\n",
              "      <td>250</td>\n",
              "      <td>0</td>\n",
              "      <td>1</td>\n",
              "      <td>187</td>\n",
              "      <td>0</td>\n",
              "      <td>3.5</td>\n",
              "      <td>0</td>\n",
              "      <td>0</td>\n",
              "      <td>2</td>\n",
              "      <td>1</td>\n",
              "    </tr>\n",
              "    <tr>\n",
              "      <th>2</th>\n",
              "      <td>41</td>\n",
              "      <td>0</td>\n",
              "      <td>1</td>\n",
              "      <td>130</td>\n",
              "      <td>204</td>\n",
              "      <td>0</td>\n",
              "      <td>0</td>\n",
              "      <td>172</td>\n",
              "      <td>0</td>\n",
              "      <td>1.4</td>\n",
              "      <td>2</td>\n",
              "      <td>0</td>\n",
              "      <td>2</td>\n",
              "      <td>1</td>\n",
              "    </tr>\n",
              "    <tr>\n",
              "      <th>3</th>\n",
              "      <td>56</td>\n",
              "      <td>1</td>\n",
              "      <td>1</td>\n",
              "      <td>120</td>\n",
              "      <td>236</td>\n",
              "      <td>0</td>\n",
              "      <td>1</td>\n",
              "      <td>178</td>\n",
              "      <td>0</td>\n",
              "      <td>0.8</td>\n",
              "      <td>2</td>\n",
              "      <td>0</td>\n",
              "      <td>2</td>\n",
              "      <td>1</td>\n",
              "    </tr>\n",
              "    <tr>\n",
              "      <th>4</th>\n",
              "      <td>57</td>\n",
              "      <td>0</td>\n",
              "      <td>0</td>\n",
              "      <td>120</td>\n",
              "      <td>354</td>\n",
              "      <td>0</td>\n",
              "      <td>1</td>\n",
              "      <td>163</td>\n",
              "      <td>1</td>\n",
              "      <td>0.6</td>\n",
              "      <td>2</td>\n",
              "      <td>0</td>\n",
              "      <td>2</td>\n",
              "      <td>1</td>\n",
              "    </tr>\n",
              "  </tbody>\n",
              "</table>\n",
              "</div>"
            ],
            "text/plain": [
              "   age  sex  cp  trestbps  chol  fbs  ...  exang  oldpeak  slope  ca  thal  target\n",
              "0   63    1   3       145   233    1  ...      0      2.3      0   0     1       1\n",
              "1   37    1   2       130   250    0  ...      0      3.5      0   0     2       1\n",
              "2   41    0   1       130   204    0  ...      0      1.4      2   0     2       1\n",
              "3   56    1   1       120   236    0  ...      0      0.8      2   0     2       1\n",
              "4   57    0   0       120   354    0  ...      1      0.6      2   0     2       1\n",
              "\n",
              "[5 rows x 14 columns]"
            ]
          },
          "metadata": {
            "tags": []
          },
          "execution_count": 2
        }
      ]
    },
    {
      "cell_type": "code",
      "metadata": {
        "id": "zhBVFTk2sSue",
        "colab_type": "code",
        "outputId": "1cee955d-eb0c-4535-f752-72dcf6450e54",
        "colab": {
          "base_uri": "https://localhost:8080/",
          "height": 51
        }
      },
      "source": [
        "countFemale = len(df[df.sex == 0])\n",
        "countMale = len(df[df.sex == 1])\n",
        "print(\"Percentage of Female Patients: {:.2f}%\".format((countFemale / (len(df.sex))*100)))\n",
        "print(\"Percentage of Male Patients: {:.2f}%\".format((countMale / (len(df.sex))*100)))"
      ],
      "execution_count": 0,
      "outputs": [
        {
          "output_type": "stream",
          "text": [
            "Percentage of Female Patients: 31.68%\n",
            "Percentage of Male Patients: 68.32%\n"
          ],
          "name": "stdout"
        }
      ]
    },
    {
      "cell_type": "code",
      "metadata": {
        "id": "O6mSWwdGsfo2",
        "colab_type": "code",
        "outputId": "4b4eecaf-dce2-4dd2-94ff-fbe750516c20",
        "colab": {
          "base_uri": "https://localhost:8080/",
          "height": 352
        }
      },
      "source": [
        "pd.crosstab(df.age,df.target).plot(kind=\"bar\",figsize=(10,5))\n",
        "plt.title('Heart Disease Frequency for Ages')\n",
        "plt.xlabel('Age')\n",
        "plt.ylabel('Frequency')\n",
        "plt.savefig('heartDiseaseAndAges.png')\n",
        "plt.show()"
      ],
      "execution_count": 0,
      "outputs": [
        {
          "output_type": "display_data",
          "data": {
            "image/png": "[encoded data removed]",
            "text/plain": [
              "<Figure size 720x360 with 1 Axes>"
            ]
          },
          "metadata": {
            "tags": []
          }
        }
      ]
    },
    {
      "cell_type": "code",
      "metadata": {
        "id": "gb8mF210s0g-",
        "colab_type": "code",
        "outputId": "b814ffbf-f94b-43ed-fccc-0b3a05e02aa3",
        "colab": {
          "base_uri": "https://localhost:8080/",
          "height": 283
        }
      },
      "source": [
        "\n",
        "\n",
        "\n",
        "\n",
        "plt.scatter(x=df.age[df.target==1], y=df.thalach[(df.target==1)], c=\"red\")\n",
        "plt.scatter(x=df.age[df.target==0], y=df.thalach[(df.target==0)])\n",
        "plt.legend([\"Disease\", \"Not Disease\"])\n",
        "plt.xlabel(\"Age\")\n",
        "plt.ylabel(\"Maximum Heart Rate\")\n",
        "plt.show()"
      ],
      "execution_count": 0,
      "outputs": [
        {
          "output_type": "display_data",
          "data": {
            "image/png": "[encoded data removed]",
            "text/plain": [
              "<Figure size 432x288 with 1 Axes>"
            ]
          },
          "metadata": {
            "tags": []
          }
        }
      ]
    },
    {
      "cell_type": "code",
      "metadata": {
        "id": "UVhpyILGKeM9",
        "colab_type": "code",
        "outputId": "63587283-ae84-43ec-883a-bacf68bda53d",
        "colab": {
          "base_uri": "https://localhost:8080/",
          "height": 317
        }
      },
      "source": [
        "sns.heatmap(df.corr(method='pearson'), annot=True, fmt='.1f')"
      ],
      "execution_count": 0,
      "outputs": [
        {
          "output_type": "execute_result",
          "data": {
            "text/plain": [
              "<matplotlib.axes._subplots.AxesSubplot at 0x7f97973e21d0>"
            ]
          },
          "metadata": {
            "tags": []
          },
          "execution_count": 7
        },
        {
          "output_type": "display_data",
          "data": {
            "image/png": "[encoded data removed]",
            "text/plain": [
              "<Figure size 432x288 with 2 Axes>"
            ]
          },
          "metadata": {
            "tags": []
          }
        }
      ]
    },
    {
      "cell_type": "markdown",
      "metadata": {
        "id": "fmqWYuHzwKwY",
        "colab_type": "text"
      },
      "source": [
        "1. Заметим что oldpeak (снижение ST, вызванная физической нагрузкой, относительно отдыха)\n",
        "наклон пика сегмента ST при физической нагрузке относительно сильно коррелируют - уберем oldpeak.\n",
        "2. Уровень холестерина (chol),результаты электрокардиографии в покое(restecg)  и сахара в крови (fbs) слабо коррелированны относительно остальных признаков - уберем оба"
      ]
    },
    {
      "cell_type": "code",
      "metadata": {
        "id": "6yV_EN83xLdq",
        "colab_type": "code",
        "colab": {}
      },
      "source": [
        "df=df.drop(['chol','fbs','oldpeak','restecg'], axis = 1)"
      ],
      "execution_count": 0,
      "outputs": []
    },
    {
      "cell_type": "code",
      "metadata": {
        "id": "TTs5FjSSxcuI",
        "colab_type": "code",
        "outputId": "9f85fda1-7558-4f65-dc52-74e1d4709787",
        "colab": {
          "base_uri": "https://localhost:8080/",
          "height": 317
        }
      },
      "source": [
        "\n",
        "\n",
        "\n",
        "\n",
        "\n",
        "\n",
        "\n",
        "\n",
        "\n",
        "\n",
        "\n",
        "sns.heatmap(df.corr(method='pearson'), annot=True, fmt='.1f')"
      ],
      "execution_count": 0,
      "outputs": [
        {
          "output_type": "execute_result",
          "data": {
            "text/plain": [
              "<matplotlib.axes._subplots.AxesSubplot at 0x7f979623a400>"
            ]
          },
          "metadata": {
            "tags": []
          },
          "execution_count": 9
        },
        {
          "output_type": "display_data",
          "data": {
            "image/png": "[encoded data removed]",
            "text/plain": [
              "<Figure size 432x288 with 2 Axes>"
            ]
          },
          "metadata": {
            "tags": []
          }
        }
      ]
    },
    {
      "cell_type": "code",
      "metadata": {
        "id": "edDjYmfFKeV-",
        "colab_type": "code",
        "outputId": "08bd922d-fa63-41f8-f6fc-c8f65cae0715",
        "colab": {
          "base_uri": "https://localhost:8080/",
          "height": 391
        }
      },
      "source": [
        "\n",
        "\n",
        "\n",
        "for col in df.columns:\n",
        "  temp=df[df[col].isnull()].shape[0]\n",
        "  print('{}-{}'.format(col, temp))\n",
        "print(\"----------------------\")\n",
        "df.dtypes"
      ],
      "execution_count": 0,
      "outputs": [
        {
          "output_type": "stream",
          "text": [
            "age-0\n",
            "sex-0\n",
            "cp-0\n",
            "trestbps-0\n",
            "thalach-0\n",
            "exang-0\n",
            "slope-0\n",
            "ca-0\n",
            "thal-0\n",
            "target-0\n",
            "----------------------\n"
          ],
          "name": "stdout"
        },
        {
          "output_type": "execute_result",
          "data": {
            "text/plain": [
              "age         int64\n",
              "sex         int64\n",
              "cp          int64\n",
              "trestbps    int64\n",
              "thalach     int64\n",
              "exang       int64\n",
              "slope       int64\n",
              "ca          int64\n",
              "thal        int64\n",
              "target      int64\n",
              "dtype: object"
            ]
          },
          "metadata": {
            "tags": []
          },
          "execution_count": 10
        }
      ]
    },
    {
      "cell_type": "markdown",
      "metadata": {
        "id": "Y19OdFijyJC4",
        "colab_type": "text"
      },
      "source": [
        "Заметим что датасет не содержит категориальных признаков и пропусков"
      ]
    },
    {
      "cell_type": "code",
      "metadata": {
        "id": "_hOHqmXfOabL",
        "colab_type": "code",
        "colab": {}
      },
      "source": [
        "Y = df.drop(df.columns[[0,1,2,3,4,5,6,7,8]],axis=\"columns\")\n",
        "X = df.drop(df.columns[[9]],axis=\"columns\")"
      ],
      "execution_count": 0,
      "outputs": []
    },
    {
      "cell_type": "markdown",
      "metadata": {
        "id": "zV6i3lgAzMNU",
        "colab_type": "text"
      },
      "source": [
        "### Выбор метрик\n",
        "Для оценки качества моделей будем использовать следующие метрики:\n",
        "-Средняя абсолютная ошибка \n",
        "-Каппа Коэна"
      ]
    },
    {
      "cell_type": "code",
      "metadata": {
        "id": "pXNnBN-_5tIH",
        "colab_type": "code",
        "colab": {}
      },
      "source": [
        "from sklearn.metrics import mean_absolute_error, cohen_kappa_score"
      ],
      "execution_count": 0,
      "outputs": []
    },
    {
      "cell_type": "markdown",
      "metadata": {
        "id": "6G_GeZkQ5859",
        "colab_type": "text"
      },
      "source": [
        "### Выбор моделей\n",
        "В качестве моделей возьмем линейную модель стохастического спуска, дерево решений и ансамблевый метод повышения градиента\n"
      ]
    },
    {
      "cell_type": "code",
      "metadata": {
        "id": "yBZFJD108RQS",
        "colab_type": "code",
        "colab": {}
      },
      "source": [
        "from sklearn.linear_model import SGDClassifier\n",
        "from sklearn.tree import DecisionTreeClassifier\n",
        "from sklearn.ensemble import GradientBoostingClassifier"
      ],
      "execution_count": 0,
      "outputs": []
    },
    {
      "cell_type": "markdown",
      "metadata": {
        "id": "i_ZFXwAd-CGo",
        "colab_type": "text"
      },
      "source": [
        "### Разделение выборки на обучающую и тестовую"
      ]
    },
    {
      "cell_type": "code",
      "metadata": {
        "id": "uek-HMYz98ju",
        "colab_type": "code",
        "colab": {}
      },
      "source": [
        "data_x_train, data_x_test, data_y_train, data_y_test = train_test_split(X,Y,test_size=0.2,random_state=1)"
      ],
      "execution_count": 0,
      "outputs": []
    },
    {
      "cell_type": "markdown",
      "metadata": {
        "id": "inrCxswuK7H1",
        "colab_type": "text"
      },
      "source": [
        "### Построение базового решения без подбора гиперпараметров"
      ]
    },
    {
      "cell_type": "code",
      "metadata": {
        "id": "c5VA90IOSlvD",
        "colab_type": "code",
        "colab": {}
      },
      "source": [
        "class Classifier():\n",
        "  def __init__(self, method, x_train, y_train, x_test, y_test):\n",
        "    self._method = method\n",
        "    self.x_train = x_train\n",
        "    self.y_train = y_train\n",
        "    self.x_test = x_test\n",
        "    self.y_test = y_test\n",
        "    self.tar1 = []\n",
        "    self.tar2 = []\n",
        "  def training(self):\n",
        "    self._method.fit(self.x_train,self.y_train)\n",
        "    self.tar2 = self._method.predict(self.x_test)\n",
        "  def result(self,metric):\n",
        "    print(metric(self.y_test,self.tar2)*100)"
      ],
      "execution_count": 0,
      "outputs": []
    },
    {
      "cell_type": "markdown",
      "metadata": {
        "id": "24L60DyOC4qu",
        "colab_type": "text"
      },
      "source": [
        "SGD -  реализует регуляризованные линейные модели с обучением по случайному градиентному спуску (SGD): градиент потерь оценивается для каждой выборки за раз, и модель обновляется по мере уменьшения  скорости обучения."
      ]
    },
    {
      "cell_type": "code",
      "metadata": {
        "id": "BTJNZK5fXFRs",
        "colab_type": "code",
        "outputId": "09acdce4-9c28-4e13-8adb-3dc19ffcba2c",
        "colab": {
          "base_uri": "https://localhost:8080/",
          "height": 139
        }
      },
      "source": [
        "#Линейные модели\n",
        "sgdlinear = Classifier(SGDClassifier(),data_x_train,data_y_train,data_x_test,data_y_test)\n",
        "sgdlinear.training()\n",
        "sgdlinear.result(mean_absolute_error)\n",
        "sgdlinear.result(cohen_kappa_score)"
      ],
      "execution_count": 0,
      "outputs": [
        {
          "output_type": "stream",
          "text": [
            "32.78688524590164\n",
            "___________________________________\n",
            "34.68950749464669\n",
            "___________________________________\n"
          ],
          "name": "stdout"
        },
        {
          "output_type": "stream",
          "text": [
            "/usr/local/lib/python3.6/dist-packages/sklearn/utils/validation.py:724: DataConversionWarning: A column-vector y was passed when a 1d array was expected. Please change the shape of y to (n_samples, ), for example using ravel().\n",
            "  y = column_or_1d(y, warn=True)\n"
          ],
          "name": "stderr"
        }
      ]
    },
    {
      "cell_type": "markdown",
      "metadata": {
        "id": "nd0VV8iMDMZu",
        "colab_type": "text"
      },
      "source": [
        "Модель, которая прогнозирует значение целевой переменной путем изучения простых правил принятия решений, выведенных из функций данных.\n",
        "\n",
        "Например, в приведенном ниже примере деревья решений учатся на основе данных для аппроксимации синусоиды с набором правил принятия решений if-then-else. Чем глубже дерево, тем сложнее правила принятия решений и тем лучше модель."
      ]
    },
    {
      "cell_type": "code",
      "metadata": {
        "id": "q0HirRz-DMhv",
        "colab_type": "code",
        "outputId": "cce9b539-ce5d-4735-b4fa-ce3e3e3dfa27",
        "colab": {
          "base_uri": "https://localhost:8080/",
          "height": 85
        }
      },
      "source": [
        "dtc = Classifier(DecisionTreeClassifier(random_state=5),data_x_train,data_y_train,data_x_test,data_y_test)\n",
        "dtc.training()\n",
        "dtc.result(mean_absolute_error)\n",
        "dtc.result(cohen_kappa_score)"
      ],
      "execution_count": 0,
      "outputs": [
        {
          "output_type": "stream",
          "text": [
            "22.950819672131146\n",
            "___________________________________\n",
            "53.98706896551724\n",
            "___________________________________\n"
          ],
          "name": "stdout"
        }
      ]
    },
    {
      "cell_type": "code",
      "metadata": {
        "id": "NnVBPO48Id8M",
        "colab_type": "code",
        "outputId": "2582a10e-b035-4552-ab57-7248cb80a0be",
        "colab": {
          "base_uri": "https://localhost:8080/",
          "height": 139
        }
      },
      "source": [
        "gbc=Classifier(GradientBoostingClassifier(max_features=2),data_x_train,data_y_train,data_x_test,data_y_test)\n",
        "gbc.training()\n",
        "gbc.result(mean_absolute_error)\n",
        "gbc.result(cohen_kappa_score)"
      ],
      "execution_count": 0,
      "outputs": [
        {
          "output_type": "stream",
          "text": [
            "21.311475409836063\n",
            "___________________________________\n",
            "57.296715131933226\n",
            "___________________________________\n"
          ],
          "name": "stdout"
        },
        {
          "output_type": "stream",
          "text": [
            "/usr/local/lib/python3.6/dist-packages/sklearn/ensemble/gradient_boosting.py:1450: DataConversionWarning: A column-vector y was passed when a 1d array was expected. Please change the shape of y to (n_samples, ), for example using ravel().\n",
            "  y = column_or_1d(y, warn=True)\n"
          ],
          "name": "stderr"
        }
      ]
    },
    {
      "cell_type": "markdown",
      "metadata": {
        "id": "lhsXfKWfDuVt",
        "colab_type": "text"
      },
      "source": [
        "### Подбор гиперпараметра К"
      ]
    },
    {
      "cell_type": "code",
      "metadata": {
        "id": "XNLFuUXyDweD",
        "colab_type": "code",
        "outputId": "db71ac0e-daaf-49e5-ae5d-8cebc80e5b11",
        "colab": {
          "base_uri": "https://localhost:8080/",
          "height": 34
        }
      },
      "source": [
        "n_range = np.array(range(5,95,10))\n",
        "n_range = n_range/100\n",
        "tp=[{'l1_ratio':n_range}]"
      ],
      "execution_count": 0,
      "outputs": [
        {
          "output_type": "execute_result",
          "data": {
            "text/plain": [
              "[{'l1_ratio': array([0.05, 0.15, 0.25, 0.35, 0.45, 0.55, 0.65, 0.75, 0.85])}]"
            ]
          },
          "metadata": {
            "tags": []
          },
          "execution_count": 19
        }
      ]
    },
    {
      "cell_type": "code",
      "metadata": {
        "id": "_0YszDmQEW4e",
        "colab_type": "code",
        "colab": {}
      },
      "source": [
        "lgscv = GridSearchCV(SGDClassifier(),tp,scoring='accuracy')\n",
        "lgscv.fit(data_x_train,data_y_train)"
      ],
      "execution_count": 0,
      "outputs": []
    },
    {
      "cell_type": "code",
      "metadata": {
        "id": "9I_teM1K4C64",
        "colab_type": "code",
        "outputId": "155772ac-c0b4-444e-9ee3-88cc7ab4f6a4",
        "colab": {
          "base_uri": "https://localhost:8080/",
          "height": 34
        }
      },
      "source": [
        "bp1=lgscv.best_params_['l1_ratio']\n",
        "bp1"
      ],
      "execution_count": 0,
      "outputs": [
        {
          "output_type": "execute_result",
          "data": {
            "text/plain": [
              "0.35"
            ]
          },
          "metadata": {
            "tags": []
          },
          "execution_count": 21
        }
      ]
    },
    {
      "cell_type": "code",
      "metadata": {
        "id": "12PhQCv6FCZb",
        "colab_type": "code",
        "outputId": "39bf399c-4751-4a2d-e962-522f8d7de80f",
        "colab": {
          "base_uri": "https://localhost:8080/",
          "height": 286
        }
      },
      "source": [
        "\n",
        "\n",
        "\n",
        "\n",
        "\n",
        "\n",
        "\n",
        "\n",
        "\n",
        "\n",
        "\n",
        "\n",
        "\n",
        "plt.plot(n_range,lgscv.cv_results_['mean_test_score'])"
      ],
      "execution_count": 0,
      "outputs": [
        {
          "output_type": "execute_result",
          "data": {
            "text/plain": [
              "[<matplotlib.lines.Line2D at 0x7f9792b8ebe0>]"
            ]
          },
          "metadata": {
            "tags": []
          },
          "execution_count": 22
        },
        {
          "output_type": "display_data",
          "data": {
            "image/png": "[encoded data removed]",
            "text/plain": [
              "<Figure size 432x288 with 1 Axes>"
            ]
          },
          "metadata": {
            "tags": []
          }
        }
      ]
    },
    {
      "cell_type": "code",
      "metadata": {
        "id": "O1guNqkVGM0B",
        "colab_type": "code",
        "outputId": "7c0b0075-b3f1-4165-cea6-e7adc06e58f3",
        "colab": {
          "base_uri": "https://localhost:8080/",
          "height": 34
        }
      },
      "source": [
        "n_range = np.array(range(1,10,1))\n",
        "tp=[{'max_depth':n_range}]"
      ],
      "execution_count": 0,
      "outputs": [
        {
          "output_type": "execute_result",
          "data": {
            "text/plain": [
              "[{'max_depth': array([1, 2, 3, 4, 5, 6, 7, 8, 9])}]"
            ]
          },
          "metadata": {
            "tags": []
          },
          "execution_count": 23
        }
      ]
    },
    {
      "cell_type": "code",
      "metadata": {
        "id": "IvDhgeJDGOxh",
        "colab_type": "code",
        "outputId": "8ccfdd86-6152-4c2b-9121-102b9804b6eb",
        "colab": {
          "base_uri": "https://localhost:8080/",
          "height": 343
        }
      },
      "source": [
        "tgscv = GridSearchCV(DecisionTreeClassifier(random_state=1),tp,cv=5,scoring='accuracy')\n",
        "tgscv.fit(data_x_train,data_y_train)\n"
      ],
      "execution_count": 0,
      "outputs": [
        {
          "output_type": "stream",
          "text": [
            "/usr/local/lib/python3.6/dist-packages/sklearn/model_selection/_search.py:813: DeprecationWarning: The default of the `iid` parameter will change from True to False in version 0.22 and will be removed in 0.24. This will change numeric results when test-set sizes are unequal.\n",
            "  DeprecationWarning)\n"
          ],
          "name": "stderr"
        },
        {
          "output_type": "execute_result",
          "data": {
            "text/plain": [
              "GridSearchCV(cv=5, error_score='raise-deprecating',\n",
              "             estimator=DecisionTreeClassifier(class_weight=None,\n",
              "                                              criterion='gini', max_depth=None,\n",
              "                                              max_features=None,\n",
              "                                              max_leaf_nodes=None,\n",
              "                                              min_impurity_decrease=0.0,\n",
              "                                              min_impurity_split=None,\n",
              "                                              min_samples_leaf=1,\n",
              "                                              min_samples_split=2,\n",
              "                                              min_weight_fraction_leaf=0.0,\n",
              "                                              presort=False, random_state=1,\n",
              "                                              splitter='best'),\n",
              "             iid='warn', n_jobs=None,\n",
              "             param_grid=[{'max_depth': array([1, 2, 3, 4, 5, 6, 7, 8, 9])}],\n",
              "             pre_dispatch='2*n_jobs', refit=True, return_train_score=False,\n",
              "             scoring='accuracy', verbose=0)"
            ]
          },
          "metadata": {
            "tags": []
          },
          "execution_count": 24
        }
      ]
    },
    {
      "cell_type": "code",
      "metadata": {
        "id": "Pbx5xler4nje",
        "colab_type": "code",
        "outputId": "f5dc9bf2-4a73-412e-ac58-5940768231ab",
        "colab": {
          "base_uri": "https://localhost:8080/",
          "height": 34
        }
      },
      "source": [
        "bp2=tgscv.best_params_['max_depth']\n",
        "bp2"
      ],
      "execution_count": 0,
      "outputs": [
        {
          "output_type": "execute_result",
          "data": {
            "text/plain": [
              "3"
            ]
          },
          "metadata": {
            "tags": []
          },
          "execution_count": 25
        }
      ]
    },
    {
      "cell_type": "code",
      "metadata": {
        "id": "QAnYNLdXGQ4x",
        "colab_type": "code",
        "outputId": "edbdf85e-c882-4c58-80a5-21bf06106f01",
        "colab": {
          "base_uri": "https://localhost:8080/",
          "height": 286
        }
      },
      "source": [
        "\n",
        "\n",
        "\n",
        "\n",
        "\n",
        "\n",
        "\n",
        "plt.plot(n_range,tgscv.cv_results_['mean_test_score'])"
      ],
      "execution_count": 0,
      "outputs": [
        {
          "output_type": "execute_result",
          "data": {
            "text/plain": [
              "[<matplotlib.lines.Line2D at 0x7f9792b0a278>]"
            ]
          },
          "metadata": {
            "tags": []
          },
          "execution_count": 26
        },
        {
          "output_type": "display_data",
          "data": {
            "image/png": "[encoded data removed]",
            "text/plain": [
              "<Figure size 432x288 with 1 Axes>"
            ]
          },
          "metadata": {
            "tags": []
          }
        }
      ]
    },
    {
      "cell_type": "code",
      "metadata": {
        "id": "cRRFQ8vrJqyl",
        "colab_type": "code",
        "outputId": "df230871-ea2c-4769-835b-e6f974091bc2",
        "colab": {
          "base_uri": "https://localhost:8080/",
          "height": 34
        }
      },
      "source": [
        "n_range = np.array(range(1,11,1))\n",
        "n_range = n_range/10\n",
        "tp=[{'max_features':n_range}]"
      ],
      "execution_count": 0,
      "outputs": [
        {
          "output_type": "execute_result",
          "data": {
            "text/plain": [
              "[{'max_features': array([0.1, 0.2, 0.3, 0.4, 0.5, 0.6, 0.7, 0.8, 0.9, 1. ])}]"
            ]
          },
          "metadata": {
            "tags": []
          },
          "execution_count": 27
        }
      ]
    },
    {
      "cell_type": "code",
      "metadata": {
        "id": "60C0mBWyJ2Jm",
        "colab_type": "code",
        "colab": {}
      },
      "source": [
        "gbcgscv = GridSearchCV(GradientBoostingClassifier(),tp,cv=5,scoring='accuracy')\n",
        "gbcgscv.fit(data_x_train,data_y_train)"
      ],
      "execution_count": 0,
      "outputs": []
    },
    {
      "cell_type": "code",
      "metadata": {
        "id": "LP9fUcUDJ6yH",
        "colab_type": "code",
        "outputId": "a1e351af-f96c-42b9-cb1b-a7b8631751e5",
        "colab": {
          "base_uri": "https://localhost:8080/",
          "height": 34
        }
      },
      "source": [
        "bp3=gbcgscv.best_params_['max_features']\n",
        "bp3"
      ],
      "execution_count": 0,
      "outputs": [
        {
          "output_type": "execute_result",
          "data": {
            "text/plain": [
              "0.1"
            ]
          },
          "metadata": {
            "tags": []
          },
          "execution_count": 29
        }
      ]
    },
    {
      "cell_type": "code",
      "metadata": {
        "id": "APLVnDmtKB0B",
        "colab_type": "code",
        "outputId": "2b0bbbf3-150c-4671-9bd1-5b96b7e9c53d",
        "colab": {
          "base_uri": "https://localhost:8080/",
          "height": 286
        }
      },
      "source": [
        "plt.plot(n_range,gbcgscv.cv_results_['mean_test_score'])"
      ],
      "execution_count": 0,
      "outputs": [
        {
          "output_type": "execute_result",
          "data": {
            "text/plain": [
              "[<matplotlib.lines.Line2D at 0x7f9792b03cc0>]"
            ]
          },
          "metadata": {
            "tags": []
          },
          "execution_count": 30
        },
        {
          "output_type": "display_data",
          "data": {
            "image/png": "[encoded data removed]",
            "text/plain": [
              "<Figure size 432x288 with 1 Axes>"
            ]
          },
          "metadata": {
            "tags": []
          }
        }
      ]
    },
    {
      "cell_type": "markdown",
      "metadata": {
        "id": "L0z7qfJ4G_YI",
        "colab_type": "text"
      },
      "source": [
        "### Сравнение моделей"
      ]
    },
    {
      "cell_type": "code",
      "metadata": {
        "id": "0yBqEoAHHBnp",
        "colab_type": "code",
        "outputId": "8d85cf27-0f7a-4118-b1f6-f1285bb2c256",
        "colab": {
          "base_uri": "https://localhost:8080/",
          "height": 156
        }
      },
      "source": [
        "#Линейные модели\n",
        "sgdlinear.result(mean_absolute_error)\n",
        "sgdlinear.result(cohen_kappa_score)\n",
        "print(\"___________________________________\")\n",
        "sgdlinear2 = Classifier(SGDClassifier(l1_ratio=bp1),data_x_train,data_y_train,data_x_test,data_y_test)\n",
        "sgdlinear2.training()\n",
        "sgdlinear2.result(mean_absolute_error)\n",
        "sgdlinear.result(cohen_kappa_score)"
      ],
      "execution_count": 0,
      "outputs": [
        {
          "output_type": "stream",
          "text": [
            "32.78688524590164\n",
            "34.68950749464669\n",
            "___________________________________\n",
            "44.26229508196721\n",
            "34.68950749464669\n"
          ],
          "name": "stdout"
        },
        {
          "output_type": "stream",
          "text": [
            "/usr/local/lib/python3.6/dist-packages/sklearn/utils/validation.py:724: DataConversionWarning: A column-vector y was passed when a 1d array was expected. Please change the shape of y to (n_samples, ), for example using ravel().\n",
            "  y = column_or_1d(y, warn=True)\n"
          ],
          "name": "stderr"
        }
      ]
    },
    {
      "cell_type": "code",
      "metadata": {
        "id": "WgigfClYHfXA",
        "colab_type": "code",
        "outputId": "099a47a0-59e9-46b0-d1db-b05d6962c123",
        "colab": {
          "base_uri": "https://localhost:8080/",
          "height": 102
        }
      },
      "source": [
        "#DTC\n",
        "dtc.result(mean_absolute_error)\n",
        "dtc.result(cohen_kappa_score)\n",
        "print(\"___________________________________\")\n",
        "dtc2 = Classifier(DecisionTreeClassifier(random_state=bp2),data_x_train,data_y_train,data_x_test,data_y_test)\n",
        "dtc2.training()\n",
        "dtc2.result(mean_absolute_error)\n",
        "dtc2.result(cohen_kappa_score)\n"
      ],
      "execution_count": 0,
      "outputs": [
        {
          "output_type": "stream",
          "text": [
            "22.950819672131146\n",
            "53.98706896551724\n",
            "___________________________________\n",
            "24.59016393442623\n",
            "50.726978998384496\n"
          ],
          "name": "stdout"
        }
      ]
    },
    {
      "cell_type": "code",
      "metadata": {
        "id": "AwUz-whFVCkY",
        "colab_type": "code",
        "outputId": "93de0d59-dfdb-4b93-b700-b99a244e964d",
        "colab": {
          "base_uri": "https://localhost:8080/",
          "height": 156
        }
      },
      "source": [
        "gbc.result(mean_absolute_error)\n",
        "gbc.result(cohen_kappa_score)\n",
        "print(\"vs\")\n",
        "gbc2=Classifier(GradientBoostingClassifier(max_features=bp3),data_x_train,data_y_train,data_x_test,data_y_test)\n",
        "gbc2.training()\n",
        "gbc2.result(mean_absolute_error)\n",
        "gbc2.result(cohen_kappa_score)"
      ],
      "execution_count": 0,
      "outputs": [
        {
          "output_type": "stream",
          "text": [
            "21.311475409836063\n",
            "57.296715131933226\n",
            "vs\n",
            "19.672131147540984\n",
            "60.517799352750814\n"
          ],
          "name": "stdout"
        },
        {
          "output_type": "stream",
          "text": [
            "/usr/local/lib/python3.6/dist-packages/sklearn/ensemble/gradient_boosting.py:1450: DataConversionWarning: A column-vector y was passed when a 1d array was expected. Please change the shape of y to (n_samples, ), for example using ravel().\n",
            "  y = column_or_1d(y, warn=True)\n"
          ],
          "name": "stderr"
        }
      ]
    },
    {
      "cell_type": "markdown",
      "metadata": {
        "id": "hR4jPhizPIUh",
        "colab_type": "text"
      },
      "source": [
        "### Выводы:\n",
        "<div>По полученным моделям и значениям можно сделать следующие выводы:\n",
        "\n",
        "<div> 1. Наилучшим методом оказался ансамблевский GradiendBoosting показав средние ~60%\n",
        "<div> 2. Несмотря на визуально незначительный прирост после использования расчитанных гиперпараметров использовать случайные гиперпараметры не рекоммендуется.\n",
        "  \n"
      ]
    },
    {
      "cell_type": "markdown",
      "metadata": {
        "id": "DczBs0KyPP3H",
        "colab_type": "text"
      },
      "source": [
        "### Литература\n",
        "<div> 1. Heart Disease UCI: https://www.kaggle.com/ronitf/heart-disease-uci\n",
        "<div> 2. Scikit-learn docs: https://scikit-learn.org/stable/modules/"
      ]
    }
  ]
}